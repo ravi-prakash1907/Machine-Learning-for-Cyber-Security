{
  "nbformat": 4,
  "nbformat_minor": 0,
  "metadata": {
    "colab": {
      "name": "deepNN_lab1.ipynb",
      "provenance": [],
      "authorship_tag": "ABX9TyNfuqu1SS58B5mQMpLoQbbQ",
      "include_colab_link": true
    },
    "kernelspec": {
      "name": "python3",
      "display_name": "Python 3"
    },
    "language_info": {
      "name": "python"
    }
  },
  "cells": [
    {
      "cell_type": "markdown",
      "metadata": {
        "id": "view-in-github",
        "colab_type": "text"
      },
      "source": [
        "<a href=\"https://colab.research.google.com/github/ravi-prakash1907/Machine-Learning-for-Cyber-Security/blob/main/Labs/deepNN_lab1.ipynb\" target=\"_parent\"><img src=\"https://colab.research.google.com/assets/colab-badge.svg\" alt=\"Open In Colab\"/></a>"
      ]
    },
    {
      "cell_type": "code",
      "metadata": {
        "colab": {
          "base_uri": "https://localhost:8080/"
        },
        "id": "vHMiELp5p7aq",
        "outputId": "5d17a8c1-3cad-4834-e4fa-48a20bd5d4ce"
      },
      "source": [
        "## lib\n",
        "import tensorflow as tf\n",
        "from tensorflow import keras\n",
        "from tensorflow.keras import utils as utils\n",
        "from tensorflow.keras.layers import Conv2D, MaxPool2D, Dropout, Dense\n",
        "\n",
        "import numpy as np\n",
        "import os\n",
        "import sys\n",
        "\n",
        "import matplotlib.pyplot as plt\n",
        "import pandas as pd\n",
        "import seaborn \n",
        "import cv2\n",
        "import IPython\n",
        "from six.moves import urllib\n",
        "print(tf.__version__)"
      ],
      "execution_count": null,
      "outputs": [
        {
          "output_type": "stream",
          "text": [
            "2.5.0\n"
          ],
          "name": "stdout"
        }
      ]
    },
    {
      "cell_type": "code",
      "metadata": {
        "id": "TGxmYmVtqR7w"
      },
      "source": [
        "(train_features, train_labels), (test_features, test_labels) = keras.datasets.boston_housing.load_data()"
      ],
      "execution_count": null,
      "outputs": []
    },
    {
      "cell_type": "code",
      "metadata": {
        "colab": {
          "base_uri": "https://localhost:8080/"
        },
        "id": "yOUH678F0X5w",
        "outputId": "eca4b351-1ed5-4b32-f6f1-fabf56baf880"
      },
      "source": [
        "type(test_features)"
      ],
      "execution_count": null,
      "outputs": [
        {
          "output_type": "execute_result",
          "data": {
            "text/plain": [
              "numpy.ndarray"
            ]
          },
          "metadata": {
            "tags": []
          },
          "execution_count": 26
        }
      ]
    },
    {
      "cell_type": "code",
      "metadata": {
        "id": "-EtRUhmAr-nw"
      },
      "source": [
        "train_mean = np.mean(train_features, axis = 0)\n",
        "train_std = np.std(train_features, axis = 0)\n",
        "train_features = (train_features - train_mean) / train_std"
      ],
      "execution_count": null,
      "outputs": []
    },
    {
      "cell_type": "code",
      "metadata": {
        "id": "d7DtbvK_ui1K"
      },
      "source": [
        "def build_model():\n",
        "  model = keras.Sequential([\n",
        "                            Dense(20, activation=tf.nn.relu, input_shape=[len(train_features[0])]),\n",
        "                            Dense(1)\n",
        "  ])\n",
        "\n",
        "  model.compile(optimizer=tf.optimizers.Adam(),\n",
        "                loss='mse',\n",
        "                metrics=['mae','mse'])\n",
        "  return model\n"
      ],
      "execution_count": null,
      "outputs": []
    },
    {
      "cell_type": "code",
      "metadata": {
        "colab": {
          "base_uri": "https://localhost:8080/"
        },
        "id": "WTZ1ZvpSvfUo",
        "outputId": "0f07ff71-fc35-4fa8-a1c9-8bf8668c263e"
      },
      "source": [
        "class PrintDot(keras.callbacks.Callback):\n",
        "  def on_epoch_end(self, epoch, logs):\n",
        "    if epoch % 100 == 0: print('')\n",
        "    print('.',end='')\n",
        "  \n",
        "model = build_model()\n",
        "\n",
        "early_stop = keras.callbacks.EarlyStopping(monitor='val_loss', patience=50)\n",
        "history = model.fit(train_features, train_labels, epochs=1000, verbose=0, validation_split=0.1,\n",
        "                    callbacks = [early_stop, PrintDot()] )\n",
        "  \n",
        "hist = pd.DataFrame(history.history)\n",
        "hist['epoc'] = history.epoch\n",
        "\n",
        "rmse_final = np.sqrt(float(hist['val_mse'].tail(1)))\n",
        "print()\n",
        "print(\"Final RMSE on val: \",round(rmse_final,3))"
      ],
      "execution_count": null,
      "outputs": [
        {
          "output_type": "stream",
          "text": [
            "\n",
            "....................................................................................................\n",
            "....................................................................................................\n",
            "....................................................................................................\n",
            "....................................................................................................\n",
            "....................................................................................................\n",
            "....................................................................................................\n",
            "....................................................................................................\n",
            "....................................................................................................\n",
            "............................................................\n",
            "Final RMSE on val:  2.373\n"
          ],
          "name": "stdout"
        }
      ]
    },
    {
      "cell_type": "code",
      "metadata": {
        "colab": {
          "base_uri": "https://localhost:8080/",
          "height": 283
        },
        "id": "ZYduJJhBxy8O",
        "outputId": "6114af3e-8878-49b6-d9cd-c212d1e27816"
      },
      "source": [
        "def plot_history():\n",
        "  plt.figure()\n",
        "  plt.xlabel('Epoch')\n",
        "  plt.ylabel('MSE (1000$^2$)')\n",
        "  plt.plot(hist['epoc'], hist['mse'], label='train err')\n",
        "  plt.plot(hist['epoc'], hist['val_mse'], label='val err')\n",
        "  plt.legend()\n",
        "  plt.ylim([0,50])\n",
        "\n",
        "plot_history()"
      ],
      "execution_count": null,
      "outputs": [
        {
          "output_type": "display_data",
          "data": {
            "image/png": "[encoded data removed]",
            "text/plain": [
              "<Figure size 432x288 with 1 Axes>"
            ]
          },
          "metadata": {
            "tags": [],
            "needs_background": "light"
          }
        }
      ]
    },
    {
      "cell_type": "markdown",
      "metadata": {
        "id": "MZnUUX64yPQi"
      },
      "source": [
        "**training err VS validation err** ???  \n",
        "\n",
        "---"
      ]
    },
    {
      "cell_type": "code",
      "metadata": {
        "colab": {
          "base_uri": "https://localhost:8080/"
        },
        "id": "TXCVsAVFyOz4",
        "outputId": "0c982e8b-c440-4309-828d-0b38e16b3257"
      },
      "source": [
        "test_features_norm = (test_features - train_mean) / train_std\n",
        "mse, _, _ = model.evaluate(test_features_norm,test_labels)\n",
        "rmse = np.sqrt(mse)\n",
        "print(\"RMSE on test: \",round(rmse,3))"
      ],
      "execution_count": null,
      "outputs": [
        {
          "output_type": "stream",
          "text": [
            "4/4 [==============================] - 0s 3ms/step - loss: 15.6994 - mae: 2.5330 - mse: 15.6994\n",
            "RMSE on test:  3.962\n"
          ],
          "name": "stdout"
        }
      ]
    }
  ]
}