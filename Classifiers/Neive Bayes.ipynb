{
  "nbformat": 4,
  "nbformat_minor": 0,
  "metadata": {
    "colab": {
      "name": "Neive Bayes.ipynb",
      "provenance": [],
      "collapsed_sections": [],
      "toc_visible": true,
      "authorship_tag": "ABX9TyNev/FmJMhfKWfNlaoqwiIe",
      "include_colab_link": true
    },
    "kernelspec": {
      "name": "python3",
      "display_name": "Python 3"
    },
    "language_info": {
      "name": "python"
    }
  },
  "cells": [
    {
      "cell_type": "markdown",
      "metadata": {
        "id": "view-in-github",
        "colab_type": "text"
      },
      "source": [
        "<a href=\"https://colab.research.google.com/github/ravi-prakash1907/Machine-Learning-for-Cyber-Security/blob/main/Classifiers/Neive%20Bayes.ipynb\" target=\"_parent\"><img src=\"https://colab.research.google.com/assets/colab-badge.svg\" alt=\"Open In Colab\"/></a>"
      ]
    },
    {
      "cell_type": "markdown",
      "metadata": {
        "id": "G5K-sd0gOZvr"
      },
      "source": [
        "# Neive Bayes Classifier \n",
        "\n",
        "**Steps:**  \n",
        "1. Get the prediction labels' probability  \n",
        "2. Get the probability for all the dependent varieables (labels') probabilities for corresponding possibilities  \n",
        "3. Use Neive Bayes' Classifier  \n",
        "4. Predict based on the Maximum A Posteriori (_MAP_)"
      ]
    },
    {
      "cell_type": "code",
      "metadata": {
        "id": "T8rXniyHOXKX"
      },
      "source": [
        "## libraries\n",
        "import pandas as pd\n",
        "import numpy as np"
      ],
      "execution_count": 3,
      "outputs": []
    },
    {
      "cell_type": "code",
      "metadata": {
        "colab": {
          "base_uri": "https://localhost:8080/",
          "height": 197
        },
        "id": "C4zBosR6PeUc",
        "outputId": "712bd944-f054-4666-c747-3fe111a4154a"
      },
      "source": [
        "df = pd.read_csv('Datasets/stolenCars.csv')\n",
        "df.head()"
      ],
      "execution_count": 4,
      "outputs": [
        {
          "output_type": "execute_result",
          "data": {
            "text/html": [
              "<div>\n",
              "<style scoped>\n",
              "    .dataframe tbody tr th:only-of-type {\n",
              "        vertical-align: middle;\n",
              "    }\n",
              "\n",
              "    .dataframe tbody tr th {\n",
              "        vertical-align: top;\n",
              "    }\n",
              "\n",
              "    .dataframe thead th {\n",
              "        text-align: right;\n",
              "    }\n",
              "</style>\n",
              "<table border=\"1\" class=\"dataframe\">\n",
              "  <thead>\n",
              "    <tr style=\"text-align: right;\">\n",
              "      <th></th>\n",
              "      <th>Car-ID</th>\n",
              "      <th>Color</th>\n",
              "      <th>Type</th>\n",
              "      <th>Origin</th>\n",
              "      <th>Stolen?</th>\n",
              "    </tr>\n",
              "  </thead>\n",
              "  <tbody>\n",
              "    <tr>\n",
              "      <th>0</th>\n",
              "      <td>C1</td>\n",
              "      <td>Red</td>\n",
              "      <td>Sports</td>\n",
              "      <td>Domestic</td>\n",
              "      <td>Yes</td>\n",
              "    </tr>\n",
              "    <tr>\n",
              "      <th>1</th>\n",
              "      <td>C2</td>\n",
              "      <td>Red</td>\n",
              "      <td>Sports</td>\n",
              "      <td>Domestic</td>\n",
              "      <td>No</td>\n",
              "    </tr>\n",
              "    <tr>\n",
              "      <th>2</th>\n",
              "      <td>C3</td>\n",
              "      <td>Red</td>\n",
              "      <td>Sports</td>\n",
              "      <td>Domestic</td>\n",
              "      <td>Yes</td>\n",
              "    </tr>\n",
              "    <tr>\n",
              "      <th>3</th>\n",
              "      <td>C4</td>\n",
              "      <td>Yellow</td>\n",
              "      <td>Sports</td>\n",
              "      <td>Domestic</td>\n",
              "      <td>No</td>\n",
              "    </tr>\n",
              "    <tr>\n",
              "      <th>4</th>\n",
              "      <td>C5</td>\n",
              "      <td>Yellow</td>\n",
              "      <td>Sports</td>\n",
              "      <td>Imported</td>\n",
              "      <td>Yes</td>\n",
              "    </tr>\n",
              "  </tbody>\n",
              "</table>\n",
              "</div>"
            ],
            "text/plain": [
              "  Car-ID   Color    Type    Origin Stolen?\n",
              "0     C1     Red  Sports  Domestic     Yes\n",
              "1     C2     Red  Sports  Domestic      No\n",
              "2     C3     Red  Sports  Domestic     Yes\n",
              "3     C4  Yellow  Sports  Domestic      No\n",
              "4     C5  Yellow  Sports  Imported     Yes"
            ]
          },
          "metadata": {
            "tags": []
          },
          "execution_count": 4
        }
      ]
    },
    {
      "cell_type": "code",
      "metadata": {
        "colab": {
          "base_uri": "https://localhost:8080/"
        },
        "id": "6fXr3WqkUjy4",
        "outputId": "d2854031-4d28-45f7-b5cd-b3711e6c13ed"
      },
      "source": [
        "df.shape"
      ],
      "execution_count": 5,
      "outputs": [
        {
          "output_type": "execute_result",
          "data": {
            "text/plain": [
              "(10, 5)"
            ]
          },
          "metadata": {
            "tags": []
          },
          "execution_count": 5
        }
      ]
    },
    {
      "cell_type": "code",
      "metadata": {
        "colab": {
          "base_uri": "https://localhost:8080/",
          "height": 167
        },
        "id": "yVp3yWnuUm9q",
        "outputId": "40601bbf-adb5-4a57-9287-ce4c95673865"
      },
      "source": [
        "df.describe()"
      ],
      "execution_count": 6,
      "outputs": [
        {
          "output_type": "execute_result",
          "data": {
            "text/html": [
              "<div>\n",
              "<style scoped>\n",
              "    .dataframe tbody tr th:only-of-type {\n",
              "        vertical-align: middle;\n",
              "    }\n",
              "\n",
              "    .dataframe tbody tr th {\n",
              "        vertical-align: top;\n",
              "    }\n",
              "\n",
              "    .dataframe thead th {\n",
              "        text-align: right;\n",
              "    }\n",
              "</style>\n",
              "<table border=\"1\" class=\"dataframe\">\n",
              "  <thead>\n",
              "    <tr style=\"text-align: right;\">\n",
              "      <th></th>\n",
              "      <th>Car-ID</th>\n",
              "      <th>Color</th>\n",
              "      <th>Type</th>\n",
              "      <th>Origin</th>\n",
              "      <th>Stolen?</th>\n",
              "    </tr>\n",
              "  </thead>\n",
              "  <tbody>\n",
              "    <tr>\n",
              "      <th>count</th>\n",
              "      <td>10</td>\n",
              "      <td>10</td>\n",
              "      <td>10</td>\n",
              "      <td>10</td>\n",
              "      <td>10</td>\n",
              "    </tr>\n",
              "    <tr>\n",
              "      <th>unique</th>\n",
              "      <td>10</td>\n",
              "      <td>2</td>\n",
              "      <td>2</td>\n",
              "      <td>2</td>\n",
              "      <td>2</td>\n",
              "    </tr>\n",
              "    <tr>\n",
              "      <th>top</th>\n",
              "      <td>C8</td>\n",
              "      <td>Red</td>\n",
              "      <td>Sports</td>\n",
              "      <td>Imported</td>\n",
              "      <td>Yes</td>\n",
              "    </tr>\n",
              "    <tr>\n",
              "      <th>freq</th>\n",
              "      <td>1</td>\n",
              "      <td>5</td>\n",
              "      <td>6</td>\n",
              "      <td>5</td>\n",
              "      <td>5</td>\n",
              "    </tr>\n",
              "  </tbody>\n",
              "</table>\n",
              "</div>"
            ],
            "text/plain": [
              "       Car-ID Color    Type    Origin Stolen?\n",
              "count      10    10      10        10      10\n",
              "unique     10     2       2         2       2\n",
              "top        C8   Red  Sports  Imported     Yes\n",
              "freq        1     5       6         5       5"
            ]
          },
          "metadata": {
            "tags": []
          },
          "execution_count": 6
        }
      ]
    },
    {
      "cell_type": "markdown",
      "metadata": {
        "id": "HTRD2pf_UaEF"
      },
      "source": [
        "---"
      ]
    },
    {
      "cell_type": "markdown",
      "metadata": {
        "id": "YdlZUE_Gje3K"
      },
      "source": [
        "### Neive Bayes' Classifier\n",
        "_It takes the tuples for set of the:_  \n",
        "1. Dependent variables  \n",
        "2. Values of any datapoint\n",
        "3. Name of cloumn i.e. to be predicted"
      ]
    },
    {
      "cell_type": "code",
      "metadata": {
        "id": "6MAnQ9oE17_4"
      },
      "source": [
        "## basic classifier\n",
        "def neiveBayesianPredictor(df, labels, given, predCol, describe = False):\n",
        "  possibleCases = list(df[predCol].unique())\n",
        "  finalPredDescription = {}\n",
        "  \n",
        "  for possibleCase in possibleCases:\n",
        "    tempDF = getOneLabel(df, predCol, [possibleCase])\n",
        "    preds = len(tempDF) / len(df)\n",
        "\n",
        "    for index in range(len(given)):\n",
        "      partialProb = tempDF[labels[index]].value_counts() / len(tempDF)\n",
        "      preds *= partialProb[given[index]]  #Neive bayesian classifier\n",
        "    \n",
        "    finalPredDescription[possibleCase] = preds\n",
        "  \n",
        "  ## converting predictions to pandas Series\n",
        "  finalPredDescription = pd.Series(finalPredDescription)\n",
        "  ## choosing MAP (Maximum A Posteriori)\n",
        "  finalPred = str(finalPredDescription[finalPredDescription == max(finalPredDescription)].index[0])\n",
        "\n",
        "  if describe:\n",
        "    return finalPred,finalPredDescription\n",
        "  else:\n",
        "    return finalPred"
      ],
      "execution_count": 71,
      "outputs": []
    },
    {
      "cell_type": "code",
      "metadata": {
        "colab": {
          "base_uri": "https://localhost:8080/"
        },
        "id": "AlYSiCs6l89w",
        "outputId": "12342010-9505-442e-c262-2c9e962bbf63"
      },
      "source": [
        "## testing set\n",
        "labels = ('Color','Type', 'Origin')\n",
        "given = ('Red', 'SUV', 'Domestic')\n",
        "predCol = 'Stolen?'\n",
        "\n",
        "## prediction\n",
        "finalPrediction = neiveBayesianPredictor(df, labels, given, predCol, describe=True)\n",
        "\n",
        "## result\n",
        "print(\"\"\"Hence, as per final prediction: \\nWill a car with specification {} be {}? : {} \\n\n",
        "Probability description: \n",
        "{}\"\"\".format(given, \n",
        "             predCol,\n",
        "             finalPrediction[0], \n",
        "             finalPrediction[1]))"
      ],
      "execution_count": 77,
      "outputs": [
        {
          "output_type": "stream",
          "text": [
            "Hence, as per final prediction: \n",
            "Will a car with specification ('Red', 'SUV', 'Domestic') be Stolen?? : No \n",
            "\n",
            "Probability description: \n",
            "Yes    0.024\n",
            "No     0.072\n",
            "dtype: float64\n"
          ],
          "name": "stdout"
        }
      ]
    }
  ]
}