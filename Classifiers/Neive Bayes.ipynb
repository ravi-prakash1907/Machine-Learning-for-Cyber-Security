{
  "nbformat": 4,
  "nbformat_minor": 0,
  "metadata": {
    "colab": {
      "name": "Neive Bayes.ipynb",
      "provenance": [],
      "collapsed_sections": [],
      "authorship_tag": "ABX9TyNHQJWJPwifi1RBMAqDTxy5",
      "include_colab_link": true
    },
    "kernelspec": {
      "name": "python3",
      "display_name": "Python 3"
    },
    "language_info": {
      "name": "python"
    }
  },
  "cells": [
    {
      "cell_type": "markdown",
      "metadata": {
        "id": "view-in-github",
        "colab_type": "text"
      },
      "source": [
        "<a href=\"https://colab.research.google.com/github/ravi-prakash1907/Machine-Learning-for-Cyber-Security/blob/background/Classifiers/Neive%20Bayes.ipynb\" target=\"_parent\"><img src=\"https://colab.research.google.com/assets/colab-badge.svg\" alt=\"Open In Colab\"/></a>"
      ]
    },
    {
      "cell_type": "markdown",
      "metadata": {
        "id": "G5K-sd0gOZvr"
      },
      "source": [
        "# Neive Bayes Classifier \n",
        "\n",
        "**Steps:**  \n",
        "1. Get the prediction labels' probability  \n",
        "2. Get the probability for all the dependent varieables (labels') probabilities for corresponding possibilities  \n",
        "3. Use Neive Bayes' Classifier  \n",
        "4. Predict based on the Maximum A Posteriori (_MAP_)"
      ]
    },
    {
      "cell_type": "code",
      "metadata": {
        "id": "T8rXniyHOXKX"
      },
      "source": [
        "## libraries\n",
        "import pandas as pd\n",
        "import numpy as np"
      ],
      "execution_count": 18,
      "outputs": []
    },
    {
      "cell_type": "code",
      "metadata": {
        "colab": {
          "base_uri": "https://localhost:8080/",
          "height": 197
        },
        "id": "C4zBosR6PeUc",
        "outputId": "9e6c9795-d24d-49fa-cb76-8aa731333629"
      },
      "source": [
        "df = pd.read_csv('stolenCars.csv')\n",
        "df.head()"
      ],
      "execution_count": 19,
      "outputs": [
        {
          "output_type": "execute_result",
          "data": {
            "text/html": [
              "<div>\n",
              "<style scoped>\n",
              "    .dataframe tbody tr th:only-of-type {\n",
              "        vertical-align: middle;\n",
              "    }\n",
              "\n",
              "    .dataframe tbody tr th {\n",
              "        vertical-align: top;\n",
              "    }\n",
              "\n",
              "    .dataframe thead th {\n",
              "        text-align: right;\n",
              "    }\n",
              "</style>\n",
              "<table border=\"1\" class=\"dataframe\">\n",
              "  <thead>\n",
              "    <tr style=\"text-align: right;\">\n",
              "      <th></th>\n",
              "      <th>Car-ID</th>\n",
              "      <th>Color</th>\n",
              "      <th>Type</th>\n",
              "      <th>Origin</th>\n",
              "      <th>Stolen?</th>\n",
              "    </tr>\n",
              "  </thead>\n",
              "  <tbody>\n",
              "    <tr>\n",
              "      <th>0</th>\n",
              "      <td>C1</td>\n",
              "      <td>Red</td>\n",
              "      <td>Sports</td>\n",
              "      <td>Domestic</td>\n",
              "      <td>Yes</td>\n",
              "    </tr>\n",
              "    <tr>\n",
              "      <th>1</th>\n",
              "      <td>C2</td>\n",
              "      <td>Red</td>\n",
              "      <td>Sports</td>\n",
              "      <td>Domestic</td>\n",
              "      <td>No</td>\n",
              "    </tr>\n",
              "    <tr>\n",
              "      <th>2</th>\n",
              "      <td>C3</td>\n",
              "      <td>Red</td>\n",
              "      <td>Sports</td>\n",
              "      <td>Domestic</td>\n",
              "      <td>Yes</td>\n",
              "    </tr>\n",
              "    <tr>\n",
              "      <th>3</th>\n",
              "      <td>C4</td>\n",
              "      <td>Yellow</td>\n",
              "      <td>Sports</td>\n",
              "      <td>Domestic</td>\n",
              "      <td>No</td>\n",
              "    </tr>\n",
              "    <tr>\n",
              "      <th>4</th>\n",
              "      <td>C5</td>\n",
              "      <td>Yellow</td>\n",
              "      <td>Sports</td>\n",
              "      <td>Imported</td>\n",
              "      <td>Yes</td>\n",
              "    </tr>\n",
              "  </tbody>\n",
              "</table>\n",
              "</div>"
            ],
            "text/plain": [
              "  Car-ID   Color    Type    Origin Stolen?\n",
              "0     C1     Red  Sports  Domestic     Yes\n",
              "1     C2     Red  Sports  Domestic      No\n",
              "2     C3     Red  Sports  Domestic     Yes\n",
              "3     C4  Yellow  Sports  Domestic      No\n",
              "4     C5  Yellow  Sports  Imported     Yes"
            ]
          },
          "metadata": {
            "tags": []
          },
          "execution_count": 19
        }
      ]
    },
    {
      "cell_type": "code",
      "metadata": {
        "colab": {
          "base_uri": "https://localhost:8080/"
        },
        "id": "6fXr3WqkUjy4",
        "outputId": "1b3e5d26-7045-46ea-9262-663c22e35211"
      },
      "source": [
        "df.shape"
      ],
      "execution_count": 20,
      "outputs": [
        {
          "output_type": "execute_result",
          "data": {
            "text/plain": [
              "(10, 5)"
            ]
          },
          "metadata": {
            "tags": []
          },
          "execution_count": 20
        }
      ]
    },
    {
      "cell_type": "code",
      "metadata": {
        "colab": {
          "base_uri": "https://localhost:8080/",
          "height": 167
        },
        "id": "yVp3yWnuUm9q",
        "outputId": "45de96c9-386b-4b70-a317-b56c75468f64"
      },
      "source": [
        "df.describe()"
      ],
      "execution_count": 21,
      "outputs": [
        {
          "output_type": "execute_result",
          "data": {
            "text/html": [
              "<div>\n",
              "<style scoped>\n",
              "    .dataframe tbody tr th:only-of-type {\n",
              "        vertical-align: middle;\n",
              "    }\n",
              "\n",
              "    .dataframe tbody tr th {\n",
              "        vertical-align: top;\n",
              "    }\n",
              "\n",
              "    .dataframe thead th {\n",
              "        text-align: right;\n",
              "    }\n",
              "</style>\n",
              "<table border=\"1\" class=\"dataframe\">\n",
              "  <thead>\n",
              "    <tr style=\"text-align: right;\">\n",
              "      <th></th>\n",
              "      <th>Car-ID</th>\n",
              "      <th>Color</th>\n",
              "      <th>Type</th>\n",
              "      <th>Origin</th>\n",
              "      <th>Stolen?</th>\n",
              "    </tr>\n",
              "  </thead>\n",
              "  <tbody>\n",
              "    <tr>\n",
              "      <th>count</th>\n",
              "      <td>10</td>\n",
              "      <td>10</td>\n",
              "      <td>10</td>\n",
              "      <td>10</td>\n",
              "      <td>10</td>\n",
              "    </tr>\n",
              "    <tr>\n",
              "      <th>unique</th>\n",
              "      <td>10</td>\n",
              "      <td>2</td>\n",
              "      <td>2</td>\n",
              "      <td>2</td>\n",
              "      <td>2</td>\n",
              "    </tr>\n",
              "    <tr>\n",
              "      <th>top</th>\n",
              "      <td>C10</td>\n",
              "      <td>Red</td>\n",
              "      <td>Sports</td>\n",
              "      <td>Imported</td>\n",
              "      <td>Yes</td>\n",
              "    </tr>\n",
              "    <tr>\n",
              "      <th>freq</th>\n",
              "      <td>1</td>\n",
              "      <td>5</td>\n",
              "      <td>6</td>\n",
              "      <td>5</td>\n",
              "      <td>5</td>\n",
              "    </tr>\n",
              "  </tbody>\n",
              "</table>\n",
              "</div>"
            ],
            "text/plain": [
              "       Car-ID Color    Type    Origin Stolen?\n",
              "count      10    10      10        10      10\n",
              "unique     10     2       2         2       2\n",
              "top       C10   Red  Sports  Imported     Yes\n",
              "freq        1     5       6         5       5"
            ]
          },
          "metadata": {
            "tags": []
          },
          "execution_count": 21
        }
      ]
    },
    {
      "cell_type": "markdown",
      "metadata": {
        "id": "HTRD2pf_UaEF"
      },
      "source": [
        "---"
      ]
    },
    {
      "cell_type": "markdown",
      "metadata": {
        "id": "rxZ-o2ntUdRR"
      },
      "source": [
        "## 1. Get the prediction labels' probability"
      ]
    },
    {
      "cell_type": "code",
      "metadata": {
        "colab": {
          "base_uri": "https://localhost:8080/"
        },
        "id": "C-i90ZOnR8vh",
        "outputId": "3f969189-fe9c-48de-87dc-3b68763aae53"
      },
      "source": [
        "## tells all the uniquevalues\n",
        "predictions = list(df['Stolen?'].unique())\n",
        "print(predictions)"
      ],
      "execution_count": 22,
      "outputs": [
        {
          "output_type": "stream",
          "text": [
            "['Yes', 'No']\n"
          ],
          "name": "stdout"
        }
      ]
    },
    {
      "cell_type": "code",
      "metadata": {
        "colab": {
          "base_uri": "https://localhost:8080/"
        },
        "id": "EsXxegR3T8Sz",
        "outputId": "ed516b97-05c5-4e61-c88c-9cc422974e8c"
      },
      "source": [
        "dataKnown = df['Stolen?'].value_counts()\n",
        "dataKnown"
      ],
      "execution_count": 23,
      "outputs": [
        {
          "output_type": "execute_result",
          "data": {
            "text/plain": [
              "Yes    5\n",
              "No     5\n",
              "Name: Stolen?, dtype: int64"
            ]
          },
          "metadata": {
            "tags": []
          },
          "execution_count": 23
        }
      ]
    },
    {
      "cell_type": "code",
      "metadata": {
        "colab": {
          "base_uri": "https://localhost:8080/"
        },
        "id": "3bwu6e7jUMVJ",
        "outputId": "e5bfa265-41a2-4105-8dc8-91b7edd20ef8"
      },
      "source": [
        "## probabolities of all possible conditions\n",
        "dataKnown/len(df)"
      ],
      "execution_count": 24,
      "outputs": [
        {
          "output_type": "execute_result",
          "data": {
            "text/plain": [
              "Yes    0.5\n",
              "No     0.5\n",
              "Name: Stolen?, dtype: float64"
            ]
          },
          "metadata": {
            "tags": []
          },
          "execution_count": 24
        }
      ]
    },
    {
      "cell_type": "markdown",
      "metadata": {
        "id": "lOeR_5DSUW-w"
      },
      "source": [
        "---  "
      ]
    },
    {
      "cell_type": "code",
      "metadata": {
        "id": "e12zAOdAh7tt"
      },
      "source": [
        "## gives rows with given set of cols\n",
        "def getOneLabel(df,label,predLabel):\n",
        "  tempDf = pd.read_csv('stolenCars.csv')\n",
        "  x = [df.loc[i][label] in predLabel for i in df.index]\n",
        "  count = 0\n",
        "  ind = []\n",
        "  for val in x:\n",
        "    if not val:\n",
        "      ind.append(count)\n",
        "    count += 1\n",
        "  \n",
        "  #print(ind)\n",
        "  tempDf.drop(ind, inplace=True)\n",
        "  return tempDf"
      ],
      "execution_count": 25,
      "outputs": []
    },
    {
      "cell_type": "code",
      "metadata": {
        "id": "XttVSvKVbBZc"
      },
      "source": [
        "## gives rows with given set of cols\n",
        "def countRows(df,label,predLabel):\n",
        "  x = [df.loc[i][label] in predLabel for i in df.index]\n",
        "  count = 0\n",
        "  for val in x:\n",
        "    if val:\n",
        "      count += 1\n",
        "  return count"
      ],
      "execution_count": 26,
      "outputs": []
    },
    {
      "cell_type": "code",
      "metadata": {
        "id": "ulp69dfeaMgW"
      },
      "source": [
        "## conditional probabaility for intermediate calculation\n",
        "def getProb(df, label, val):\n",
        "  total = len(df)\n",
        "  withPred = countRows(df, label, [val])\n",
        "\n",
        "  prob = withPred/total\n",
        "  return prob"
      ],
      "execution_count": 27,
      "outputs": []
    },
    {
      "cell_type": "code",
      "metadata": {
        "colab": {
          "base_uri": "https://localhost:8080/"
        },
        "id": "XmERaC9bUOpj",
        "outputId": "5fb33c4a-4af6-4de6-cc16-f70697db0484"
      },
      "source": [
        "## P( Y | (R, SUV, D))  ===  ??\n",
        "## P(R/Y)\n",
        "\n",
        "\n",
        "## for Yes\n",
        "totalData = len(df)\n",
        "preds = {}\n",
        "\n",
        "for possiblePred in predictions:\n",
        "  thisProb = 1\n",
        "  thisMuls = []\n",
        "\n",
        "  print(possiblePred)\n",
        "  tempDF = getOneLabel(df, 'Stolen?', [possiblePred])\n",
        "  labels = ('Color','Type', 'Origin')  # C\n",
        "  given = ('Red', 'Sports', 'Domestic')  # X\n",
        "\n",
        "  for index in range(len(given)):\n",
        "    thisMuls.append(getProb(tempDF, labels[index], given[index]))\n",
        "    thisProb *= thisMuls[-1]\n",
        "  thisMuls.append(len(tempDF)/totalData)\n",
        "  thisProb *= thisMuls[-1]\n",
        "\n",
        "  preds[possiblePred] = thisProb"
      ],
      "execution_count": 33,
      "outputs": [
        {
          "output_type": "stream",
          "text": [
            "Yes\n",
            "No\n"
          ],
          "name": "stdout"
        }
      ]
    },
    {
      "cell_type": "code",
      "metadata": {
        "colab": {
          "base_uri": "https://localhost:8080/"
        },
        "id": "0w5GeXZDj6md",
        "outputId": "bb031add-c7ae-4f84-f3f0-91a9ee7dbfad"
      },
      "source": [
        "thisMuls"
      ],
      "execution_count": 34,
      "outputs": [
        {
          "output_type": "execute_result",
          "data": {
            "text/plain": [
              "[0.4, 0.4, 0.6, 0.5]"
            ]
          },
          "metadata": {
            "tags": []
          },
          "execution_count": 34
        }
      ]
    },
    {
      "cell_type": "code",
      "metadata": {
        "id": "s1VcPbkwiXvZ"
      },
      "source": [
        "finalPrediction = max(preds)"
      ],
      "execution_count": 37,
      "outputs": []
    },
    {
      "cell_type": "code",
      "metadata": {
        "colab": {
          "base_uri": "https://localhost:8080/"
        },
        "id": "AlYSiCs6l89w",
        "outputId": "6a1a96f3-014b-44ab-d94d-2dae4c259893"
      },
      "source": [
        "predCol = 'Stolen?'\n",
        "print(\"Hence, the final predicted answer for a with specification {} is {}? : {}\".format(given,predCol, finalPrediction))"
      ],
      "execution_count": 38,
      "outputs": [
        {
          "output_type": "stream",
          "text": [
            "Hence, the final predicted answer for a with specification ('Red', 'Sports', 'Domestic') is Stolen?? : Yes\n"
          ],
          "name": "stdout"
        }
      ]
    }
  ]
}