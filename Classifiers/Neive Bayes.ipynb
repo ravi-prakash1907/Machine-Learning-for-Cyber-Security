{
  "nbformat": 4,
  "nbformat_minor": 0,
  "metadata": {
    "colab": {
      "name": "Neive Bayes.ipynb",
      "provenance": [],
      "collapsed_sections": [],
      "authorship_tag": "ABX9TyOATpLpkxioPXidQBEIs1S5",
      "include_colab_link": true
    },
    "kernelspec": {
      "name": "python3",
      "display_name": "Python 3"
    },
    "language_info": {
      "name": "python"
    }
  },
  "cells": [
    {
      "cell_type": "markdown",
      "metadata": {
        "id": "view-in-github",
        "colab_type": "text"
      },
      "source": [
        "<a href=\"https://colab.research.google.com/github/ravi-prakash1907/Machine-Learning-for-Cyber-Security/blob/background/Classifiers/Neive%20Bayes.ipynb\" target=\"_parent\"><img src=\"https://colab.research.google.com/assets/colab-badge.svg\" alt=\"Open In Colab\"/></a>"
      ]
    },
    {
      "cell_type": "markdown",
      "metadata": {
        "id": "G5K-sd0gOZvr"
      },
      "source": [
        "# Neive Bayes Classifier \n",
        "\n",
        "**Steps:**  \n",
        "1. Get the prediction labels' probability  \n",
        "2. Get the probability for all the dependent varieables (labels') probabilities for corresponding possibilities  \n",
        "3. Use Neive Bayes' Classifier  \n",
        "4. Predict based on the Maximum A Posteriori (_MAP_)"
      ]
    },
    {
      "cell_type": "code",
      "metadata": {
        "id": "T8rXniyHOXKX"
      },
      "source": [
        "## libraries\n",
        "import pandas as pd\n",
        "import numpy as np"
      ],
      "execution_count": null,
      "outputs": []
    },
    {
      "cell_type": "code",
      "metadata": {
        "id": "C4zBosR6PeUc"
      },
      "source": [
        "df = pd.read_csv('stolenCars.csv')\n",
        "df.head()"
      ],
      "execution_count": null,
      "outputs": []
    },
    {
      "cell_type": "code",
      "metadata": {
        "id": "6fXr3WqkUjy4"
      },
      "source": [
        "df.shape"
      ],
      "execution_count": null,
      "outputs": []
    },
    {
      "cell_type": "code",
      "metadata": {
        "id": "yVp3yWnuUm9q"
      },
      "source": [
        "df.describe()"
      ],
      "execution_count": null,
      "outputs": []
    },
    {
      "cell_type": "markdown",
      "metadata": {
        "id": "HTRD2pf_UaEF"
      },
      "source": [
        "---"
      ]
    },
    {
      "cell_type": "markdown",
      "metadata": {
        "id": "rxZ-o2ntUdRR"
      },
      "source": [
        "## 1. Get the prediction labels' probability"
      ]
    },
    {
      "cell_type": "code",
      "metadata": {
        "id": "C-i90ZOnR8vh"
      },
      "source": [
        "## tells all the uniquevalues\n",
        "predictions = list(df['Stolen?'].unique())\n",
        "print(predictions)"
      ],
      "execution_count": null,
      "outputs": []
    },
    {
      "cell_type": "code",
      "metadata": {
        "id": "EsXxegR3T8Sz"
      },
      "source": [
        "dataKnown = df['Stolen?'].value_counts()\n",
        "dataKnown"
      ],
      "execution_count": null,
      "outputs": []
    },
    {
      "cell_type": "code",
      "metadata": {
        "id": "3bwu6e7jUMVJ"
      },
      "source": [
        "## probabolities of all possible conditions\n",
        "dataKnown/len(df)"
      ],
      "execution_count": null,
      "outputs": []
    },
    {
      "cell_type": "markdown",
      "metadata": {
        "id": "lOeR_5DSUW-w"
      },
      "source": [
        "---  "
      ]
    },
    {
      "cell_type": "code",
      "metadata": {
        "id": "e12zAOdAh7tt"
      },
      "source": [
        "## gives rows with given set of cols\n",
        "def getOneLabel(df,label,predLabel):\n",
        "  tempDf = df\n",
        "  x = [df.loc[i][label] in predLabel for i in df.index]\n",
        "  count = 0\n",
        "  ind = []\n",
        "  for val in x:\n",
        "    if not val:\n",
        "      ind.append(count)\n",
        "    count += 1\n",
        "  \n",
        "  print(ind)\n",
        "  tempDf.drop(ind, inplace=True)\n",
        "  return tempDf"
      ],
      "execution_count": null,
      "outputs": []
    },
    {
      "cell_type": "code",
      "metadata": {
        "colab": {
          "base_uri": "https://localhost:8080/"
        },
        "id": "XttVSvKVbBZc",
        "outputId": "154880e1-aaac-4f23-e4c2-d90c45499a78"
      },
      "source": [
        "## gives rows with given set of cols\n",
        "def countRows(df,label,predLabel):\n",
        "  x = [df.loc[i][label] in predLabel for i in df.index]\n",
        "  count = 0\n",
        "  for val in x:\n",
        "    if val:\n",
        "      count += 1\n",
        "  return count"
      ],
      "execution_count": 68,
      "outputs": [
        {
          "output_type": "execute_result",
          "data": {
            "text/plain": [
              "5"
            ]
          },
          "metadata": {
            "tags": []
          },
          "execution_count": 68
        }
      ]
    },
    {
      "cell_type": "code",
      "metadata": {
        "id": "ulp69dfeaMgW"
      },
      "source": [
        "## conditional probabaility for intermediate calculation\n",
        "def getProb(df, label, val):\n",
        "  total = len(df)\n",
        "  withPred = countRows(df, label, [val])\n",
        "\n",
        "  prob = withPred/total\n",
        "  return prob"
      ],
      "execution_count": null,
      "outputs": []
    },
    {
      "cell_type": "code",
      "metadata": {
        "id": "XmERaC9bUOpj"
      },
      "source": [
        "## P( Y | (R, SUV, D))  ===  ??\n",
        "## P(R/Y)\n",
        "\n",
        "\n",
        "## for Yes\n",
        "totalData = len(df)\n",
        "\n",
        "for possiblePred in predictions:\n",
        "  preds = {}\n",
        "  thisProb = 1\n",
        "\n",
        "  tempDF = getOneLabel(df, 'Stolen?', [possiblePred])\n",
        "  labels = ('Color','Type', 'Origin')  # C\n",
        "  given = ('Red', 'Sports', 'Domestic')  # X\n",
        "\n",
        "  for index in range(len(given)):\n",
        "    thisProb *= getProb(tempDF, labels[index], given[index])\n",
        "  thisProb *= len(tempDF)/totalData\n",
        "\n",
        "  pred[possiblePred] = thisProb"
      ],
      "execution_count": null,
      "outputs": []
    }
  ]
}