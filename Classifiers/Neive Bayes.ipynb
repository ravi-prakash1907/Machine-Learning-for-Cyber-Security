{
  "nbformat": 4,
  "nbformat_minor": 0,
  "metadata": {
    "colab": {
      "name": "Neive Bayes.ipynb",
      "provenance": [],
      "toc_visible": true,
      "authorship_tag": "ABX9TyNcu3Pi8z4Esylh1UgewSed",
      "include_colab_link": true
    },
    "kernelspec": {
      "name": "python3",
      "display_name": "Python 3"
    },
    "language_info": {
      "name": "python"
    }
  },
  "cells": [
    {
      "cell_type": "markdown",
      "metadata": {
        "id": "view-in-github",
        "colab_type": "text"
      },
      "source": [
        "<a href=\"https://colab.research.google.com/github/ravi-prakash1907/Machine-Learning-for-Cyber-Security/blob/background/Classifiers/Neive%20Bayes.ipynb\" target=\"_parent\"><img src=\"https://colab.research.google.com/assets/colab-badge.svg\" alt=\"Open In Colab\"/></a>"
      ]
    },
    {
      "cell_type": "markdown",
      "metadata": {
        "id": "G5K-sd0gOZvr"
      },
      "source": [
        "# Neive Bayes Classifier \n",
        "\n",
        "**Steps:**  \n",
        "1. Get the prediction labels' probability  \n",
        "2. Get the probability for all the dependent varieables (labels') probabilities for corresponding possibilities  \n",
        "3. Use Neive Bayes' Classifier  \n",
        "4. Predict based on the Maximum A Posteriori (_MAP_)"
      ]
    },
    {
      "cell_type": "code",
      "metadata": {
        "id": "T8rXniyHOXKX"
      },
      "source": [
        "## libraries\n",
        "import pandas as pd\n",
        "import numpy as np"
      ],
      "execution_count": 82,
      "outputs": []
    },
    {
      "cell_type": "code",
      "metadata": {
        "colab": {
          "base_uri": "https://localhost:8080/",
          "height": 197
        },
        "id": "C4zBosR6PeUc",
        "outputId": "27d5a873-ff4f-4a60-fc6c-bf6a4e707085"
      },
      "source": [
        "df = pd.read_csv('stolenCars.csv')\n",
        "df.head()"
      ],
      "execution_count": 83,
      "outputs": [
        {
          "output_type": "execute_result",
          "data": {
            "text/html": [
              "<div>\n",
              "<style scoped>\n",
              "    .dataframe tbody tr th:only-of-type {\n",
              "        vertical-align: middle;\n",
              "    }\n",
              "\n",
              "    .dataframe tbody tr th {\n",
              "        vertical-align: top;\n",
              "    }\n",
              "\n",
              "    .dataframe thead th {\n",
              "        text-align: right;\n",
              "    }\n",
              "</style>\n",
              "<table border=\"1\" class=\"dataframe\">\n",
              "  <thead>\n",
              "    <tr style=\"text-align: right;\">\n",
              "      <th></th>\n",
              "      <th>Car-ID</th>\n",
              "      <th>Color</th>\n",
              "      <th>Type</th>\n",
              "      <th>Origin</th>\n",
              "      <th>Stolen?</th>\n",
              "    </tr>\n",
              "  </thead>\n",
              "  <tbody>\n",
              "    <tr>\n",
              "      <th>0</th>\n",
              "      <td>C1</td>\n",
              "      <td>Red</td>\n",
              "      <td>Sports</td>\n",
              "      <td>Domestic</td>\n",
              "      <td>Yes</td>\n",
              "    </tr>\n",
              "    <tr>\n",
              "      <th>1</th>\n",
              "      <td>C2</td>\n",
              "      <td>Red</td>\n",
              "      <td>Sports</td>\n",
              "      <td>Domestic</td>\n",
              "      <td>No</td>\n",
              "    </tr>\n",
              "    <tr>\n",
              "      <th>2</th>\n",
              "      <td>C3</td>\n",
              "      <td>Red</td>\n",
              "      <td>Sports</td>\n",
              "      <td>Domestic</td>\n",
              "      <td>Yes</td>\n",
              "    </tr>\n",
              "    <tr>\n",
              "      <th>3</th>\n",
              "      <td>C4</td>\n",
              "      <td>Yellow</td>\n",
              "      <td>Sports</td>\n",
              "      <td>Domestic</td>\n",
              "      <td>No</td>\n",
              "    </tr>\n",
              "    <tr>\n",
              "      <th>4</th>\n",
              "      <td>C5</td>\n",
              "      <td>Yellow</td>\n",
              "      <td>Sports</td>\n",
              "      <td>Imported</td>\n",
              "      <td>Yes</td>\n",
              "    </tr>\n",
              "  </tbody>\n",
              "</table>\n",
              "</div>"
            ],
            "text/plain": [
              "  Car-ID   Color    Type    Origin Stolen?\n",
              "0     C1     Red  Sports  Domestic     Yes\n",
              "1     C2     Red  Sports  Domestic      No\n",
              "2     C3     Red  Sports  Domestic     Yes\n",
              "3     C4  Yellow  Sports  Domestic      No\n",
              "4     C5  Yellow  Sports  Imported     Yes"
            ]
          },
          "metadata": {
            "tags": []
          },
          "execution_count": 83
        }
      ]
    },
    {
      "cell_type": "code",
      "metadata": {
        "colab": {
          "base_uri": "https://localhost:8080/"
        },
        "id": "6fXr3WqkUjy4",
        "outputId": "390d1541-7d54-42be-8787-eb467c659405"
      },
      "source": [
        "df.shape"
      ],
      "execution_count": 84,
      "outputs": [
        {
          "output_type": "execute_result",
          "data": {
            "text/plain": [
              "(10, 5)"
            ]
          },
          "metadata": {
            "tags": []
          },
          "execution_count": 84
        }
      ]
    },
    {
      "cell_type": "code",
      "metadata": {
        "colab": {
          "base_uri": "https://localhost:8080/",
          "height": 167
        },
        "id": "yVp3yWnuUm9q",
        "outputId": "56653d50-ae6d-4fd4-8d15-282e3ff3ade9"
      },
      "source": [
        "df.describe()"
      ],
      "execution_count": 85,
      "outputs": [
        {
          "output_type": "execute_result",
          "data": {
            "text/html": [
              "<div>\n",
              "<style scoped>\n",
              "    .dataframe tbody tr th:only-of-type {\n",
              "        vertical-align: middle;\n",
              "    }\n",
              "\n",
              "    .dataframe tbody tr th {\n",
              "        vertical-align: top;\n",
              "    }\n",
              "\n",
              "    .dataframe thead th {\n",
              "        text-align: right;\n",
              "    }\n",
              "</style>\n",
              "<table border=\"1\" class=\"dataframe\">\n",
              "  <thead>\n",
              "    <tr style=\"text-align: right;\">\n",
              "      <th></th>\n",
              "      <th>Car-ID</th>\n",
              "      <th>Color</th>\n",
              "      <th>Type</th>\n",
              "      <th>Origin</th>\n",
              "      <th>Stolen?</th>\n",
              "    </tr>\n",
              "  </thead>\n",
              "  <tbody>\n",
              "    <tr>\n",
              "      <th>count</th>\n",
              "      <td>10</td>\n",
              "      <td>10</td>\n",
              "      <td>10</td>\n",
              "      <td>10</td>\n",
              "      <td>10</td>\n",
              "    </tr>\n",
              "    <tr>\n",
              "      <th>unique</th>\n",
              "      <td>10</td>\n",
              "      <td>2</td>\n",
              "      <td>2</td>\n",
              "      <td>2</td>\n",
              "      <td>2</td>\n",
              "    </tr>\n",
              "    <tr>\n",
              "      <th>top</th>\n",
              "      <td>C8</td>\n",
              "      <td>Yellow</td>\n",
              "      <td>Sports</td>\n",
              "      <td>Imported</td>\n",
              "      <td>Yes</td>\n",
              "    </tr>\n",
              "    <tr>\n",
              "      <th>freq</th>\n",
              "      <td>1</td>\n",
              "      <td>5</td>\n",
              "      <td>6</td>\n",
              "      <td>5</td>\n",
              "      <td>5</td>\n",
              "    </tr>\n",
              "  </tbody>\n",
              "</table>\n",
              "</div>"
            ],
            "text/plain": [
              "       Car-ID   Color    Type    Origin Stolen?\n",
              "count      10      10      10        10      10\n",
              "unique     10       2       2         2       2\n",
              "top        C8  Yellow  Sports  Imported     Yes\n",
              "freq        1       5       6         5       5"
            ]
          },
          "metadata": {
            "tags": []
          },
          "execution_count": 85
        }
      ]
    },
    {
      "cell_type": "markdown",
      "metadata": {
        "id": "HTRD2pf_UaEF"
      },
      "source": [
        "---"
      ]
    },
    {
      "cell_type": "markdown",
      "metadata": {
        "id": "rxZ-o2ntUdRR"
      },
      "source": [
        "## 1. Get the prediction labels' probability"
      ]
    },
    {
      "cell_type": "code",
      "metadata": {
        "colab": {
          "base_uri": "https://localhost:8080/"
        },
        "id": "C-i90ZOnR8vh",
        "outputId": "7dec9a69-d115-4e6d-c34c-15038df0239b"
      },
      "source": [
        "## tells all the uniquevalues\n",
        "predictions = list(df['Stolen?'].unique())\n",
        "print(predictions)"
      ],
      "execution_count": 86,
      "outputs": [
        {
          "output_type": "stream",
          "text": [
            "['Yes', 'No']\n"
          ],
          "name": "stdout"
        }
      ]
    },
    {
      "cell_type": "code",
      "metadata": {
        "colab": {
          "base_uri": "https://localhost:8080/"
        },
        "id": "EsXxegR3T8Sz",
        "outputId": "efbd5ac5-476d-44da-9564-8b3f704a40ff"
      },
      "source": [
        "dataKnown = df['Stolen?'].value_counts()\n",
        "dataKnown"
      ],
      "execution_count": 87,
      "outputs": [
        {
          "output_type": "execute_result",
          "data": {
            "text/plain": [
              "Yes    5\n",
              "No     5\n",
              "Name: Stolen?, dtype: int64"
            ]
          },
          "metadata": {
            "tags": []
          },
          "execution_count": 87
        }
      ]
    },
    {
      "cell_type": "code",
      "metadata": {
        "colab": {
          "base_uri": "https://localhost:8080/"
        },
        "id": "3bwu6e7jUMVJ",
        "outputId": "00afa269-ba18-46d2-8fa2-eaea4ba65219"
      },
      "source": [
        "## probabolities of all possible conditions\n",
        "dataKnown/len(df)"
      ],
      "execution_count": 88,
      "outputs": [
        {
          "output_type": "execute_result",
          "data": {
            "text/plain": [
              "Yes    0.5\n",
              "No     0.5\n",
              "Name: Stolen?, dtype: float64"
            ]
          },
          "metadata": {
            "tags": []
          },
          "execution_count": 88
        }
      ]
    },
    {
      "cell_type": "markdown",
      "metadata": {
        "id": "lOeR_5DSUW-w"
      },
      "source": [
        "---  "
      ]
    },
    {
      "cell_type": "code",
      "metadata": {
        "colab": {
          "base_uri": "https://localhost:8080/",
          "height": 215
        },
        "id": "e12zAOdAh7tt",
        "outputId": "3ec860e9-7ca5-4599-9645-9ea497013d66"
      },
      "source": [
        "## gives rows with given set of cols\n",
        "def countRows(df,label,predLabel):\n",
        "  tempDf = df\n",
        "  x = [df.loc[i][label] in predLabel for i in df.index]\n",
        "  count = 0\n",
        "  ind = []\n",
        "  for val in x:\n",
        "    if not val:\n",
        "      ind.append(count)\n",
        "      count += 1\n",
        "  \n",
        "  \n",
        "  print(ind)\n",
        "  tempDf.drop(ind, inplace=True)\n",
        "  return tempDf\n",
        "\n",
        "countRows(df, 'Stolen?', ['Yes'])"
      ],
      "execution_count": 90,
      "outputs": [
        {
          "output_type": "stream",
          "text": [
            "[0, 1, 2, 3, 4]\n"
          ],
          "name": "stdout"
        },
        {
          "output_type": "execute_result",
          "data": {
            "text/html": [
              "<div>\n",
              "<style scoped>\n",
              "    .dataframe tbody tr th:only-of-type {\n",
              "        vertical-align: middle;\n",
              "    }\n",
              "\n",
              "    .dataframe tbody tr th {\n",
              "        vertical-align: top;\n",
              "    }\n",
              "\n",
              "    .dataframe thead th {\n",
              "        text-align: right;\n",
              "    }\n",
              "</style>\n",
              "<table border=\"1\" class=\"dataframe\">\n",
              "  <thead>\n",
              "    <tr style=\"text-align: right;\">\n",
              "      <th></th>\n",
              "      <th>Car-ID</th>\n",
              "      <th>Color</th>\n",
              "      <th>Type</th>\n",
              "      <th>Origin</th>\n",
              "      <th>Stolen?</th>\n",
              "    </tr>\n",
              "  </thead>\n",
              "  <tbody>\n",
              "    <tr>\n",
              "      <th>5</th>\n",
              "      <td>C6</td>\n",
              "      <td>Yellow</td>\n",
              "      <td>SUV</td>\n",
              "      <td>Imported</td>\n",
              "      <td>No</td>\n",
              "    </tr>\n",
              "    <tr>\n",
              "      <th>6</th>\n",
              "      <td>C7</td>\n",
              "      <td>Yellow</td>\n",
              "      <td>SUV</td>\n",
              "      <td>Imported</td>\n",
              "      <td>Yes</td>\n",
              "    </tr>\n",
              "    <tr>\n",
              "      <th>7</th>\n",
              "      <td>C8</td>\n",
              "      <td>Yellow</td>\n",
              "      <td>SUV</td>\n",
              "      <td>Domestic</td>\n",
              "      <td>No</td>\n",
              "    </tr>\n",
              "    <tr>\n",
              "      <th>8</th>\n",
              "      <td>C9</td>\n",
              "      <td>Red</td>\n",
              "      <td>SUV</td>\n",
              "      <td>Imported</td>\n",
              "      <td>No</td>\n",
              "    </tr>\n",
              "    <tr>\n",
              "      <th>9</th>\n",
              "      <td>C10</td>\n",
              "      <td>Red</td>\n",
              "      <td>Sports</td>\n",
              "      <td>Imported</td>\n",
              "      <td>Yes</td>\n",
              "    </tr>\n",
              "  </tbody>\n",
              "</table>\n",
              "</div>"
            ],
            "text/plain": [
              "  Car-ID   Color    Type    Origin Stolen?\n",
              "5     C6  Yellow     SUV  Imported      No\n",
              "6     C7  Yellow     SUV  Imported     Yes\n",
              "7     C8  Yellow     SUV  Domestic      No\n",
              "8     C9     Red     SUV  Imported      No\n",
              "9    C10     Red  Sports  Imported     Yes"
            ]
          },
          "metadata": {
            "tags": []
          },
          "execution_count": 90
        }
      ]
    },
    {
      "cell_type": "code",
      "metadata": {
        "colab": {
          "base_uri": "https://localhost:8080/"
        },
        "id": "XttVSvKVbBZc",
        "outputId": "154880e1-aaac-4f23-e4c2-d90c45499a78"
      },
      "source": [
        "## gives rows with given set of cols\n",
        "def countRows(df,label,predLabel):\n",
        "  x = [df.loc[i][label] in predLabel for i in df.index]\n",
        "  count = 0\n",
        "  for val in x:\n",
        "    if val:\n",
        "      count += 1\n",
        "  return count"
      ],
      "execution_count": 68,
      "outputs": [
        {
          "output_type": "execute_result",
          "data": {
            "text/plain": [
              "5"
            ]
          },
          "metadata": {
            "tags": []
          },
          "execution_count": 68
        }
      ]
    },
    {
      "cell_type": "code",
      "metadata": {
        "colab": {
          "base_uri": "https://localhost:8080/"
        },
        "id": "Ed_lEv6mhpC-",
        "outputId": "c9a018c8-8276-4081-a524-6edee334d40d"
      },
      "source": [
        "countRows(df, 'Stolen?', ['Yes'])"
      ],
      "execution_count": 69,
      "outputs": [
        {
          "output_type": "execute_result",
          "data": {
            "text/plain": [
              "5"
            ]
          },
          "metadata": {
            "tags": []
          },
          "execution_count": 69
        }
      ]
    },
    {
      "cell_type": "code",
      "metadata": {
        "id": "ulp69dfeaMgW"
      },
      "source": [
        "def getProb(df, upper, pred = 'Yes'):\n",
        "  total = countRows(df, 'Stolen?', ['Yes'])\n",
        "\n",
        "  prob = withPred/total\n",
        "  topVal = df[]"
      ],
      "execution_count": null,
      "outputs": []
    },
    {
      "cell_type": "code",
      "metadata": {
        "id": "XmERaC9bUOpj"
      },
      "source": [
        "## P( Y | (R, SUV, D))  ===  ??\n",
        "# P(R/Y)\n",
        "## for Yes\n",
        "\n",
        "given = ('Red', 'Sports', 'Domestic')\n",
        "for lab in given:\n",
        "  #"
      ],
      "execution_count": null,
      "outputs": []
    }
  ]
}