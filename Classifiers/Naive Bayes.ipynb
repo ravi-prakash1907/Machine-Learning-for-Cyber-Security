{
  "nbformat": 4,
  "nbformat_minor": 0,
  "metadata": {
    "colab": {
      "name": "Neive Bayes.ipynb",
      "provenance": [],
      "collapsed_sections": [],
      "authorship_tag": "ABX9TyPpbR2QYzL29liHQ5917ed+",
      "include_colab_link": true
    },
    "kernelspec": {
      "name": "python3",
      "display_name": "Python 3"
    },
    "language_info": {
      "name": "python"
    }
  },
  "cells": [
    {
      "cell_type": "markdown",
      "metadata": {
        "id": "view-in-github",
        "colab_type": "text"
      },
      "source": [
        "<a href=\"https://colab.research.google.com/github/ravi-prakash1907/Machine-Learning-for-Cyber-Security/blob/main/Classifiers/Naive%20Bayes.ipynb\" target=\"_parent\"><img src=\"https://colab.research.google.com/assets/colab-badge.svg\" alt=\"Open In Colab\"/></a>"
      ]
    },
    {
      "cell_type": "markdown",
      "metadata": {
        "id": "G5K-sd0gOZvr"
      },
      "source": [
        "# Naive Bayes Classifier \n",
        "\n",
        "**Steps:**  \n",
        "1. Get the prediction labels' probability  \n",
        "2. Get the probability for all the dependent varieables (labels') probabilities for corresponding possibilities  \n",
        "3. Use Naive Bayes' Classifier  \n",
        "4. Predict based on the Maximum A Posteriori (_MAP_)"
      ]
    },
    {
      "cell_type": "code",
      "metadata": {
        "id": "T8rXniyHOXKX"
      },
      "source": [
        "## libraries\n",
        "import pandas as pd\n",
        "import numpy as np"
      ],
      "execution_count": 4,
      "outputs": []
    },
    {
      "cell_type": "code",
      "metadata": {
        "colab": {
          "base_uri": "https://localhost:8080/",
          "height": 197
        },
        "id": "C4zBosR6PeUc",
        "outputId": "447065b0-d210-4e7e-d21c-69cb9a657809"
      },
      "source": [
        "df = pd.read_csv('Datasets/stolenCars.csv')\n",
        "df.head()"
      ],
      "execution_count": 5,
      "outputs": [
        {
          "output_type": "execute_result",
          "data": {
            "text/html": [
              "<div>\n",
              "<style scoped>\n",
              "    .dataframe tbody tr th:only-of-type {\n",
              "        vertical-align: middle;\n",
              "    }\n",
              "\n",
              "    .dataframe tbody tr th {\n",
              "        vertical-align: top;\n",
              "    }\n",
              "\n",
              "    .dataframe thead th {\n",
              "        text-align: right;\n",
              "    }\n",
              "</style>\n",
              "<table border=\"1\" class=\"dataframe\">\n",
              "  <thead>\n",
              "    <tr style=\"text-align: right;\">\n",
              "      <th></th>\n",
              "      <th>Car-ID</th>\n",
              "      <th>Color</th>\n",
              "      <th>Type</th>\n",
              "      <th>Origin</th>\n",
              "      <th>Stolen?</th>\n",
              "    </tr>\n",
              "  </thead>\n",
              "  <tbody>\n",
              "    <tr>\n",
              "      <th>0</th>\n",
              "      <td>C1</td>\n",
              "      <td>Red</td>\n",
              "      <td>Sports</td>\n",
              "      <td>Domestic</td>\n",
              "      <td>Yes</td>\n",
              "    </tr>\n",
              "    <tr>\n",
              "      <th>1</th>\n",
              "      <td>C2</td>\n",
              "      <td>Red</td>\n",
              "      <td>Sports</td>\n",
              "      <td>Domestic</td>\n",
              "      <td>No</td>\n",
              "    </tr>\n",
              "    <tr>\n",
              "      <th>2</th>\n",
              "      <td>C3</td>\n",
              "      <td>Red</td>\n",
              "      <td>Sports</td>\n",
              "      <td>Domestic</td>\n",
              "      <td>Yes</td>\n",
              "    </tr>\n",
              "    <tr>\n",
              "      <th>3</th>\n",
              "      <td>C4</td>\n",
              "      <td>Yellow</td>\n",
              "      <td>Sports</td>\n",
              "      <td>Domestic</td>\n",
              "      <td>No</td>\n",
              "    </tr>\n",
              "    <tr>\n",
              "      <th>4</th>\n",
              "      <td>C5</td>\n",
              "      <td>Yellow</td>\n",
              "      <td>Sports</td>\n",
              "      <td>Imported</td>\n",
              "      <td>Yes</td>\n",
              "    </tr>\n",
              "  </tbody>\n",
              "</table>\n",
              "</div>"
            ],
            "text/plain": [
              "  Car-ID   Color    Type    Origin Stolen?\n",
              "0     C1     Red  Sports  Domestic     Yes\n",
              "1     C2     Red  Sports  Domestic      No\n",
              "2     C3     Red  Sports  Domestic     Yes\n",
              "3     C4  Yellow  Sports  Domestic      No\n",
              "4     C5  Yellow  Sports  Imported     Yes"
            ]
          },
          "metadata": {
            "tags": []
          },
          "execution_count": 5
        }
      ]
    },
    {
      "cell_type": "code",
      "metadata": {
        "colab": {
          "base_uri": "https://localhost:8080/"
        },
        "id": "6fXr3WqkUjy4",
        "outputId": "1b2eabc9-c2cf-474e-9408-52927f798cc6"
      },
      "source": [
        "df.shape"
      ],
      "execution_count": 6,
      "outputs": [
        {
          "output_type": "execute_result",
          "data": {
            "text/plain": [
              "(10, 5)"
            ]
          },
          "metadata": {
            "tags": []
          },
          "execution_count": 6
        }
      ]
    },
    {
      "cell_type": "code",
      "metadata": {
        "colab": {
          "base_uri": "https://localhost:8080/",
          "height": 167
        },
        "id": "yVp3yWnuUm9q",
        "outputId": "29d46d99-ced8-4c12-c6e4-b879dc082a3d"
      },
      "source": [
        "df.describe()"
      ],
      "execution_count": 7,
      "outputs": [
        {
          "output_type": "execute_result",
          "data": {
            "text/html": [
              "<div>\n",
              "<style scoped>\n",
              "    .dataframe tbody tr th:only-of-type {\n",
              "        vertical-align: middle;\n",
              "    }\n",
              "\n",
              "    .dataframe tbody tr th {\n",
              "        vertical-align: top;\n",
              "    }\n",
              "\n",
              "    .dataframe thead th {\n",
              "        text-align: right;\n",
              "    }\n",
              "</style>\n",
              "<table border=\"1\" class=\"dataframe\">\n",
              "  <thead>\n",
              "    <tr style=\"text-align: right;\">\n",
              "      <th></th>\n",
              "      <th>Car-ID</th>\n",
              "      <th>Color</th>\n",
              "      <th>Type</th>\n",
              "      <th>Origin</th>\n",
              "      <th>Stolen?</th>\n",
              "    </tr>\n",
              "  </thead>\n",
              "  <tbody>\n",
              "    <tr>\n",
              "      <th>count</th>\n",
              "      <td>10</td>\n",
              "      <td>10</td>\n",
              "      <td>10</td>\n",
              "      <td>10</td>\n",
              "      <td>10</td>\n",
              "    </tr>\n",
              "    <tr>\n",
              "      <th>unique</th>\n",
              "      <td>10</td>\n",
              "      <td>2</td>\n",
              "      <td>2</td>\n",
              "      <td>2</td>\n",
              "      <td>2</td>\n",
              "    </tr>\n",
              "    <tr>\n",
              "      <th>top</th>\n",
              "      <td>C2</td>\n",
              "      <td>Red</td>\n",
              "      <td>Sports</td>\n",
              "      <td>Imported</td>\n",
              "      <td>No</td>\n",
              "    </tr>\n",
              "    <tr>\n",
              "      <th>freq</th>\n",
              "      <td>1</td>\n",
              "      <td>5</td>\n",
              "      <td>6</td>\n",
              "      <td>5</td>\n",
              "      <td>5</td>\n",
              "    </tr>\n",
              "  </tbody>\n",
              "</table>\n",
              "</div>"
            ],
            "text/plain": [
              "       Car-ID Color    Type    Origin Stolen?\n",
              "count      10    10      10        10      10\n",
              "unique     10     2       2         2       2\n",
              "top        C2   Red  Sports  Imported      No\n",
              "freq        1     5       6         5       5"
            ]
          },
          "metadata": {
            "tags": []
          },
          "execution_count": 7
        }
      ]
    },
    {
      "cell_type": "markdown",
      "metadata": {
        "id": "HTRD2pf_UaEF"
      },
      "source": [
        "---"
      ]
    },
    {
      "cell_type": "markdown",
      "metadata": {
        "id": "YdlZUE_Gje3K"
      },
      "source": [
        "### Naive Bayes' Classifier\n",
        "_It takes the tuples for set of the:_  \n",
        "1. Dependent variables  \n",
        "2. Values of any datapoint\n",
        "3. Name of cloumn i.e. to be predicted"
      ]
    },
    {
      "cell_type": "code",
      "metadata": {
        "id": "6wUMe122gGtG"
      },
      "source": [
        "## gives rows with given set of cols\n",
        "def getOneLabel(df,label,predLabel):\n",
        "  tempDf = pd.read_csv('Datasets/stolenCars.csv')\n",
        "  x = [df.loc[i][label] in predLabel for i in df.index]\n",
        "  count = 0\n",
        "  ind = []\n",
        "  for val in x:\n",
        "    if not val:\n",
        "      ind.append(count)\n",
        "    count += 1\n",
        "  \n",
        "  #print(ind)\n",
        "  tempDf.drop(ind, inplace=True)\n",
        "  return tempDf"
      ],
      "execution_count": 8,
      "outputs": []
    },
    {
      "cell_type": "code",
      "metadata": {
        "id": "6MAnQ9oE17_4"
      },
      "source": [
        "## basic classifier\n",
        "def naiveBayesianPredictor(df, labels, given, predCol, describe = False):\n",
        "  possibleCases = list(df[predCol].unique())\n",
        "  finalPredDescription = {}\n",
        "  \n",
        "  for possibleCase in possibleCases:\n",
        "    tempDF = getOneLabel(df, predCol, [possibleCase])\n",
        "    preds = len(tempDF) / len(df)\n",
        "\n",
        "    for index in range(len(given)):\n",
        "      partialProb = tempDF[labels[index]].value_counts() / len(tempDF)\n",
        "      preds *= partialProb[given[index]]  #Naive bayesian classifier\n",
        "    \n",
        "    finalPredDescription[possibleCase] = preds\n",
        "  \n",
        "  ## converting predictions to pandas Series\n",
        "  finalPredDescription = pd.Series(finalPredDescription)\n",
        "  ## choosing MAP (Maximum A Posteriori)\n",
        "  finalPred = str(finalPredDescription[finalPredDescription == max(finalPredDescription)].index[0])\n",
        "\n",
        "  if describe:\n",
        "    return finalPred,finalPredDescription\n",
        "  else:\n",
        "    return finalPred"
      ],
      "execution_count": 9,
      "outputs": []
    },
    {
      "cell_type": "code",
      "metadata": {
        "colab": {
          "base_uri": "https://localhost:8080/",
          "height": 148
        },
        "id": "AlYSiCs6l89w",
        "outputId": "6f8132db-305f-4a99-e121-630847c44a66"
      },
      "source": [
        "## testing set\n",
        "labels = ('Color','Type', 'Origin')\n",
        "given = ('Red', 'SUV', 'Domestic')\n",
        "predCol = 'Stolen?'\n",
        "\n",
        "## prediction\n",
        "finalPrediction = naiveBayesianPredictor(df, labels, given, predCol, describe=True)\n",
        "probTable = pd.DataFrame([finalPrediction[1].index, finalPrediction[1].values], columns = ['Predicted Labels', 'Probability'])\n",
        "\n",
        "## result\n",
        "print(\"\"\"Hence, as per final prediction: \\nWill a car with specification {} be {}? : {} \\n\n",
        "Probability Table: \"\"\".format(given, \n",
        "             predCol,\n",
        "             finalPrediction[0]))\n",
        "pd.DataFrame([finalPrediction[1]])"
      ],
      "execution_count": 10,
      "outputs": [
        {
          "output_type": "stream",
          "text": [
            "Hence, as per final prediction: \n",
            "Will a car with specification ('Red', 'SUV', 'Domestic') be Stolen?? : No \n",
            "\n",
            "Probability Table: \n"
          ],
          "name": "stdout"
        },
        {
          "output_type": "execute_result",
          "data": {
            "text/html": [
              "<div>\n",
              "<style scoped>\n",
              "    .dataframe tbody tr th:only-of-type {\n",
              "        vertical-align: middle;\n",
              "    }\n",
              "\n",
              "    .dataframe tbody tr th {\n",
              "        vertical-align: top;\n",
              "    }\n",
              "\n",
              "    .dataframe thead th {\n",
              "        text-align: right;\n",
              "    }\n",
              "</style>\n",
              "<table border=\"1\" class=\"dataframe\">\n",
              "  <thead>\n",
              "    <tr style=\"text-align: right;\">\n",
              "      <th></th>\n",
              "      <th>Yes</th>\n",
              "      <th>No</th>\n",
              "    </tr>\n",
              "  </thead>\n",
              "  <tbody>\n",
              "    <tr>\n",
              "      <th>0</th>\n",
              "      <td>0.024</td>\n",
              "      <td>0.072</td>\n",
              "    </tr>\n",
              "  </tbody>\n",
              "</table>\n",
              "</div>"
            ],
            "text/plain": [
              "     Yes     No\n",
              "0  0.024  0.072"
            ]
          },
          "metadata": {
            "tags": []
          },
          "execution_count": 10
        }
      ]
    },
    {
      "cell_type": "markdown",
      "metadata": {
        "id": "f0ZHwAnv7h00"
      },
      "source": [
        "--- "
      ]
    },
    {
      "cell_type": "markdown",
      "metadata": {
        "id": "172Kam_q7kx4"
      },
      "source": [
        "## Intermediate Probability Tables"
      ]
    },
    {
      "cell_type": "code",
      "metadata": {
        "id": "DEfshV__UkjJ"
      },
      "source": [
        "def getProbTable(df,dependentCol,predCol = 'Stolen?'):\n",
        "  possibleCases = list(df[predCol].unique())\n",
        "  possibleCases  # ['Yes', 'No']\n",
        "  sets = pd.DataFrame()\n",
        "\n",
        "  for possibleCase in possibleCases:\n",
        "    #possibleCase = 'Yes'\n",
        "    targetDF = getOneLabel(df, predCol, [possibleCase])\n",
        "    PcolGIVENcase = targetDF[dependentCol].value_counts()/len(targetDF)\n",
        "\n",
        "    header = \"P(\"+dependentCol+\"|\"+possibleCase+\")\"\n",
        "    sets[header] = PcolGIVENcase\n",
        "    sets.append(PcolGIVENcase)\n",
        "  return sets"
      ],
      "execution_count": 72,
      "outputs": []
    },
    {
      "cell_type": "code",
      "metadata": {
        "id": "K1f-cFz4eMmv",
        "outputId": "b6c1b40f-fda1-42e2-b285-3a1394fd7a1c",
        "colab": {
          "base_uri": "https://localhost:8080/"
        }
      },
      "source": [
        "## printing intermediate tables (for all three dependent columns)\n",
        "for col in df.columns[1:-1]:\n",
        "  print(\"\\nProbability Table for\",col,\"-\\n\")\n",
        "  x = getProbTable(df,col)\n",
        "  print(x, \"\\n\\n\"+\"-\"*35+\"\\n\")"
      ],
      "execution_count": 74,
      "outputs": [
        {
          "output_type": "stream",
          "text": [
            "\n",
            "Probability Table for Color -\n",
            "\n",
            "        P(Color|Yes)  P(Color|No)\n",
            "Red              0.6          0.4\n",
            "Yellow           0.4          0.6 \n",
            "\n",
            "-----------------------------------\n",
            "\n",
            "\n",
            "Probability Table for Type -\n",
            "\n",
            "        P(Type|Yes)  P(Type|No)\n",
            "Sports          0.8         0.4\n",
            "SUV             0.2         0.6 \n",
            "\n",
            "-----------------------------------\n",
            "\n",
            "\n",
            "Probability Table for Origin -\n",
            "\n",
            "          P(Origin|Yes)  P(Origin|No)\n",
            "Imported            0.6           0.4\n",
            "Domestic            0.4           0.6 \n",
            "\n",
            "-----------------------------------\n",
            "\n"
          ],
          "name": "stdout"
        }
      ]
    }
  ]
}