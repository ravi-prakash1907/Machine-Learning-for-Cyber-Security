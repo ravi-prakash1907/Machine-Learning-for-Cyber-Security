{
  "nbformat": 4,
  "nbformat_minor": 0,
  "metadata": {
    "colab": {
      "name": "decisionTreeCore.ipynb",
      "provenance": [],
      "authorship_tag": "ABX9TyP2nAmqTEk7LHIv083joCos",
      "include_colab_link": true
    },
    "kernelspec": {
      "name": "python3",
      "display_name": "Python 3"
    },
    "language_info": {
      "name": "python"
    }
  },
  "cells": [
    {
      "cell_type": "markdown",
      "metadata": {
        "id": "view-in-github",
        "colab_type": "text"
      },
      "source": [
        "<a href=\"https://colab.research.google.com/github/ravi-prakash1907/Machine-Learning-for-Cyber-Security/blob/background/Classifiers/decisionTreeCore.ipynb\" target=\"_parent\"><img src=\"https://colab.research.google.com/assets/colab-badge.svg\" alt=\"Open In Colab\"/></a>"
      ]
    },
    {
      "cell_type": "code",
      "metadata": {
        "id": "CQ_VSS3qiiJm"
      },
      "source": [
        "from math import log2\n",
        "import pandas as pd\n",
        "import numpy as np"
      ],
      "execution_count": 1,
      "outputs": []
    },
    {
      "cell_type": "code",
      "metadata": {
        "id": "ZeYT3HmAjzDV"
      },
      "source": [
        "import requests\n",
        "\n",
        "def downloadCSV(fileURL, saveAs='downloaded.csv'):\n",
        "  req = requests.get(fileURL)\n",
        "  fileURLContent = req.content\n",
        "  csv_file = open(saveAs, 'wb')\n",
        "  \n",
        "  csv_file.write(fileURLContent)\n",
        "  csv_file.close()"
      ],
      "execution_count": 2,
      "outputs": []
    },
    {
      "cell_type": "code",
      "metadata": {
        "id": "1OG2VO7jj0Ee"
      },
      "source": [
        "#get data\n",
        "downloadCSV(\"https://raw.githubusercontent.com/ravi-prakash1907/Machine-Learning-for-Cyber-Security/main/Datasets/opth.csv?token=AJGAAOATXXFQUSQYLRLCYY3ARP33S\",\"data.csv\")\n",
        "df = pd.read_csv('data.csv')"
      ],
      "execution_count": 20,
      "outputs": []
    },
    {
      "cell_type": "code",
      "metadata": {
        "colab": {
          "base_uri": "https://localhost:8080/",
          "height": 197
        },
        "id": "hXpfMc19kW2T",
        "outputId": "985d694e-7aa7-4acd-c744-f12692d87ea4"
      },
      "source": [
        "df.head()"
      ],
      "execution_count": 21,
      "outputs": [
        {
          "output_type": "execute_result",
          "data": {
            "text/html": [
              "<div>\n",
              "<style scoped>\n",
              "    .dataframe tbody tr th:only-of-type {\n",
              "        vertical-align: middle;\n",
              "    }\n",
              "\n",
              "    .dataframe tbody tr th {\n",
              "        vertical-align: top;\n",
              "    }\n",
              "\n",
              "    .dataframe thead th {\n",
              "        text-align: right;\n",
              "    }\n",
              "</style>\n",
              "<table border=\"1\" class=\"dataframe\">\n",
              "  <thead>\n",
              "    <tr style=\"text-align: right;\">\n",
              "      <th></th>\n",
              "      <th>Age</th>\n",
              "      <th>Eyesight</th>\n",
              "      <th>Estigmatic</th>\n",
              "      <th>UseType</th>\n",
              "      <th>Class</th>\n",
              "    </tr>\n",
              "  </thead>\n",
              "  <tbody>\n",
              "    <tr>\n",
              "      <th>0</th>\n",
              "      <td>1</td>\n",
              "      <td>1</td>\n",
              "      <td>1</td>\n",
              "      <td>1</td>\n",
              "      <td>3</td>\n",
              "    </tr>\n",
              "    <tr>\n",
              "      <th>1</th>\n",
              "      <td>1</td>\n",
              "      <td>1</td>\n",
              "      <td>1</td>\n",
              "      <td>2</td>\n",
              "      <td>2</td>\n",
              "    </tr>\n",
              "    <tr>\n",
              "      <th>2</th>\n",
              "      <td>1</td>\n",
              "      <td>1</td>\n",
              "      <td>2</td>\n",
              "      <td>1</td>\n",
              "      <td>3</td>\n",
              "    </tr>\n",
              "    <tr>\n",
              "      <th>3</th>\n",
              "      <td>1</td>\n",
              "      <td>1</td>\n",
              "      <td>2</td>\n",
              "      <td>2</td>\n",
              "      <td>1</td>\n",
              "    </tr>\n",
              "    <tr>\n",
              "      <th>4</th>\n",
              "      <td>1</td>\n",
              "      <td>2</td>\n",
              "      <td>1</td>\n",
              "      <td>1</td>\n",
              "      <td>3</td>\n",
              "    </tr>\n",
              "  </tbody>\n",
              "</table>\n",
              "</div>"
            ],
            "text/plain": [
              "   Age  Eyesight  Estigmatic  UseType  Class\n",
              "0    1         1           1        1      3\n",
              "1    1         1           1        2      2\n",
              "2    1         1           2        1      3\n",
              "3    1         1           2        2      1\n",
              "4    1         2           1        1      3"
            ]
          },
          "metadata": {
            "tags": []
          },
          "execution_count": 21
        }
      ]
    },
    {
      "cell_type": "code",
      "metadata": {
        "colab": {
          "base_uri": "https://localhost:8080/"
        },
        "id": "-27oxSlFkeCG",
        "outputId": "b3050e07-57b0-4ff1-bd36-832f7f048f51"
      },
      "source": [
        "df['Class'].unique()"
      ],
      "execution_count": 23,
      "outputs": [
        {
          "output_type": "execute_result",
          "data": {
            "text/plain": [
              "array([3, 2, 1])"
            ]
          },
          "metadata": {
            "tags": []
          },
          "execution_count": 23
        }
      ]
    },
    {
      "cell_type": "markdown",
      "metadata": {
        "id": "2xllBrTdh2Mi"
      },
      "source": [
        "## Entropy"
      ]
    },
    {
      "cell_type": "code",
      "metadata": {
        "id": "ppu-txUfhzC0"
      },
      "source": [
        "def getEntropy(df):\n",
        "  labels = df['Class'].unique()\n",
        "  total = len(df)\n",
        "  E = 0\n",
        "  for l in labels:\n",
        "    tempDF = df[df['Class'] == l]\n",
        "    count = len(tempDF)\n",
        "    Pi = count/total\n",
        "    E += -Pi * log2(Pi)\n",
        "  return E"
      ],
      "execution_count": 24,
      "outputs": []
    },
    {
      "cell_type": "code",
      "metadata": {
        "id": "ItDyjhJRlulm"
      },
      "source": [
        "def getPartialEntropy(df, label):\n",
        "  target = df[label].unique()\n",
        "  tempEntropy = 0\n",
        "  partialEntropies = []\n",
        "\n",
        "  ## info gain for every val in label\n",
        "  for t in target:\n",
        "    tempDF = df[df[label] == t]\n",
        "    tempEntropy += getEntropy(tempDF)\n",
        "    tempEntropy *= len(tempDF)/len(df)\n",
        "    partialEntropies.append(tempEntropy)\n",
        "\n",
        "  return partialEntropies"
      ],
      "execution_count": 26,
      "outputs": []
    },
    {
      "cell_type": "code",
      "metadata": {
        "colab": {
          "base_uri": "https://localhost:8080/"
        },
        "id": "Akhd4faMkzc9",
        "outputId": "2cd2741f-ebc7-4d9c-bf76-1e0c9eb0c0e8"
      },
      "source": [
        "getEntropy(df)"
      ],
      "execution_count": 27,
      "outputs": [
        {
          "output_type": "execute_result",
          "data": {
            "text/plain": [
              "1.326087525364298"
            ]
          },
          "metadata": {
            "tags": []
          },
          "execution_count": 27
        }
      ]
    },
    {
      "cell_type": "markdown",
      "metadata": {
        "id": "dCjz3iTMh5Zg"
      },
      "source": [
        "## Gini Index"
      ]
    },
    {
      "cell_type": "code",
      "metadata": {
        "id": "GPV4iiJQh7Dj"
      },
      "source": [
        "def getGiniIndex(df):\n",
        "  labels = df['Class'].unique()\n",
        "  total = len(df)\n",
        "  Val = 0\n",
        "  for l in labels:\n",
        "    tempDF = df[df['Class'] == l]\n",
        "    count = len(tempDF)\n",
        "    Pi = count/total\n",
        "    Val += Pi**2\n",
        "  G = 1-Val\n",
        "  return G"
      ],
      "execution_count": 30,
      "outputs": []
    },
    {
      "cell_type": "code",
      "metadata": {
        "colab": {
          "base_uri": "https://localhost:8080/"
        },
        "id": "tVFGZWnuldfG",
        "outputId": "55043452-8936-423c-c770-3dadbcd39ca0"
      },
      "source": [
        "getGiniIndex(df)"
      ],
      "execution_count": 31,
      "outputs": [
        {
          "output_type": "execute_result",
          "data": {
            "text/plain": [
              "0.5381944444444444"
            ]
          },
          "metadata": {
            "tags": []
          },
          "execution_count": 31
        }
      ]
    },
    {
      "cell_type": "markdown",
      "metadata": {
        "id": "QsOwpYRnh7nR"
      },
      "source": [
        "## Information Gain"
      ]
    },
    {
      "cell_type": "code",
      "metadata": {
        "id": "DRZHtjcKh95s"
      },
      "source": [
        "def getInfoGain(df,label):\n",
        "  avgEntropies = getPartialEntropy(df, label)\n",
        "  infoGain = getEntropy(df) - sum(avgEntropies)\n",
        "  return infoGain"
      ],
      "execution_count": 37,
      "outputs": []
    },
    {
      "cell_type": "code",
      "metadata": {
        "colab": {
          "base_uri": "https://localhost:8080/"
        },
        "id": "RZcZGC0QpPiW",
        "outputId": "e8ffe16d-73a0-4425-e71a-3369f840f34d"
      },
      "source": [
        "getInfoGain(df,'Class')"
      ],
      "execution_count": 38,
      "outputs": [
        {
          "output_type": "execute_result",
          "data": {
            "text/plain": [
              "1.326087525364298"
            ]
          },
          "metadata": {
            "tags": []
          },
          "execution_count": 38
        }
      ]
    },
    {
      "cell_type": "markdown",
      "metadata": {
        "id": "9QUz-JUnh-Vh"
      },
      "source": [
        "## Gain Ratio"
      ]
    },
    {
      "cell_type": "code",
      "metadata": {
        "id": "ZmW2jE-0h_9l"
      },
      "source": [
        "def getGainRatio(df,label):\n",
        "  infoGain = getInfoGain(df,label)\n",
        "  entropy = getEntropy(df)\n",
        "  gainRatio = infoGain/entropy\n",
        "  return gainRatio"
      ],
      "execution_count": 39,
      "outputs": []
    },
    {
      "cell_type": "code",
      "metadata": {
        "colab": {
          "base_uri": "https://localhost:8080/"
        },
        "id": "J1wwz_QJvOeu",
        "outputId": "2e2d5920-c22a-4c16-f878-7e6b2f052d21"
      },
      "source": [
        "getGainRatio(df,'Class')"
      ],
      "execution_count": 40,
      "outputs": [
        {
          "output_type": "execute_result",
          "data": {
            "text/plain": [
              "1.0"
            ]
          },
          "metadata": {
            "tags": []
          },
          "execution_count": 40
        }
      ]
    }
  ]
}