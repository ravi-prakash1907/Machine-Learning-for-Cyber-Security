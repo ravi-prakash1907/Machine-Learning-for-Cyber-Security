{
  "nbformat": 4,
  "nbformat_minor": 0,
  "metadata": {
    "colab": {
      "name": "decisionTreeCore.ipynb",
      "provenance": [],
      "authorship_tag": "ABX9TyPweQXTeoYduu6tFY9d5Bpz",
      "include_colab_link": true
    },
    "kernelspec": {
      "name": "python3",
      "display_name": "Python 3"
    },
    "language_info": {
      "name": "python"
    }
  },
  "cells": [
    {
      "cell_type": "markdown",
      "metadata": {
        "id": "view-in-github",
        "colab_type": "text"
      },
      "source": [
        "<a href=\"https://colab.research.google.com/github/ravi-prakash1907/Machine-Learning-for-Cyber-Security/blob/main/Classifiers/decisionTreeCore.ipynb\" target=\"_parent\"><img src=\"https://colab.research.google.com/assets/colab-badge.svg\" alt=\"Open In Colab\"/></a>"
      ]
    },
    {
      "cell_type": "code",
      "metadata": {
        "id": "CQ_VSS3qiiJm"
      },
      "source": [
        "from math import log2\n",
        "import pandas as pd\n",
        "import numpy as np"
      ],
      "execution_count": 1,
      "outputs": []
    },
    {
      "cell_type": "markdown",
      "metadata": {
        "id": "KIAQCFGRlPfx"
      },
      "source": [
        "## Data Collention"
      ]
    },
    {
      "cell_type": "code",
      "metadata": {
        "id": "ZeYT3HmAjzDV"
      },
      "source": [
        "import requests\n",
        "\n",
        "def downloadCSV(fileURL, saveAs='downloaded.csv'):\n",
        "  req = requests.get(fileURL)\n",
        "  fileURLContent = req.content\n",
        "  csv_file = open(saveAs, 'wb')\n",
        "  \n",
        "  csv_file.write(fileURLContent)\n",
        "  csv_file.close()"
      ],
      "execution_count": 2,
      "outputs": []
    },
    {
      "cell_type": "code",
      "metadata": {
        "id": "1OG2VO7jj0Ee"
      },
      "source": [
        "#get data\n",
        "downloadCSV(\"https://raw.githubusercontent.com/ravi-prakash1907/Machine-Learning-for-Cyber-Security/main/Datasets/opth.csv?token=AJGAAOATXXFQUSQYLRLCYY3ARP33S\",\"data.csv\")"
      ],
      "execution_count": 3,
      "outputs": []
    },
    {
      "cell_type": "markdown",
      "metadata": {
        "id": "bYVKEOXilKc8"
      },
      "source": [
        "## Algo Requirements"
      ]
    },
    {
      "cell_type": "markdown",
      "metadata": {
        "id": "2xllBrTdh2Mi"
      },
      "source": [
        "### Entropy"
      ]
    },
    {
      "cell_type": "code",
      "metadata": {
        "id": "ppu-txUfhzC0"
      },
      "source": [
        "def getEntropy(df, colPredict):\n",
        "  labels = df[colPredict].unique()\n",
        "  total = len(df)\n",
        "  entropy = 0\n",
        "  for l in labels:\n",
        "    tempDF = df[df[colPredict] == l]\n",
        "    count = len(tempDF)\n",
        "    Pi = count/total\n",
        "    entropy += -Pi * log2(Pi)\n",
        "  return entropy"
      ],
      "execution_count": 4,
      "outputs": []
    },
    {
      "cell_type": "code",
      "metadata": {
        "id": "n89FsHldF4DJ"
      },
      "source": [
        "# getEntropy(df,'Class')"
      ],
      "execution_count": 5,
      "outputs": []
    },
    {
      "cell_type": "markdown",
      "metadata": {
        "id": "dCjz3iTMh5Zg"
      },
      "source": [
        "### Gini Index"
      ]
    },
    {
      "cell_type": "code",
      "metadata": {
        "id": "GPV4iiJQh7Dj"
      },
      "source": [
        "def getGiniIndex(df, colPredict):\n",
        "  labels = df[colPredict].unique()\n",
        "  total = len(df)\n",
        "  partialIndex = 0\n",
        "  for l in labels:\n",
        "    tempDF = df[df[colPredict] == l]\n",
        "    count = len(tempDF)\n",
        "    Pi = count/total\n",
        "    partialIndex += Pi**2\n",
        "  giniIndex = 1-partialIndex\n",
        "  return giniIndex"
      ],
      "execution_count": 6,
      "outputs": []
    },
    {
      "cell_type": "code",
      "metadata": {
        "id": "tVFGZWnuldfG"
      },
      "source": [
        "# getGiniIndex(df,'Class')"
      ],
      "execution_count": 7,
      "outputs": []
    },
    {
      "cell_type": "code",
      "metadata": {
        "id": "QbrP3rtpj78J"
      },
      "source": [
        "def getAttrGiniIndex(df, attr, colPredict):\n",
        "  target = df[attr].unique()\n",
        "  partialGiniIndex = []\n",
        "\n",
        "  ## info gain for every val in label\n",
        "  for t in target:\n",
        "    tempDF = df[df[attr] == t]\n",
        "    tempGiniIndex = getGiniIndex(tempDF,colPredict)\n",
        "    partialGiniIndex.append(tempGiniIndex)\n",
        "  \n",
        "  ## final gini index for attr\n",
        "  finalGiniIndex = getGiniIndex(df,colPredict) - sum(partialGiniIndex)\n",
        "  return finalGiniIndex"
      ],
      "execution_count": 8,
      "outputs": []
    },
    {
      "cell_type": "markdown",
      "metadata": {
        "id": "QsOwpYRnh7nR"
      },
      "source": [
        "### Information Gain"
      ]
    },
    {
      "cell_type": "code",
      "metadata": {
        "id": "27Q1rhMtZy54"
      },
      "source": [
        "def getAttrEntropy(df, attr, colPredict):\n",
        "  target = df[attr].unique()\n",
        "  partialEntropies = []\n",
        "\n",
        "  ## info gain for every val in label\n",
        "  for t in target:\n",
        "    tempDF = df[df[attr] == t]\n",
        "    tempEntropy = getEntropy(tempDF,colPredict)\n",
        "    tempEntropy *= len(tempDF)/len(df)\n",
        "    partialEntropies.append(tempEntropy)\n",
        "\n",
        "  return partialEntropies"
      ],
      "execution_count": 9,
      "outputs": []
    },
    {
      "cell_type": "code",
      "metadata": {
        "id": "Akhd4faMkzc9"
      },
      "source": [
        "# getAttrEntropy(df,'Age','Class')"
      ],
      "execution_count": 10,
      "outputs": []
    },
    {
      "cell_type": "code",
      "metadata": {
        "id": "DRZHtjcKh95s"
      },
      "source": [
        "def getInfoGain(df,attr,colPredict):\n",
        "  avgEntropies = getAttrEntropy(df, attr, colPredict)\n",
        "  infoGain = getEntropy(df,colPredict) - sum(avgEntropies)\n",
        "  return infoGain"
      ],
      "execution_count": 11,
      "outputs": []
    },
    {
      "cell_type": "code",
      "metadata": {
        "id": "RZcZGC0QpPiW"
      },
      "source": [
        "# getInfoGain(df,'Age','Class')"
      ],
      "execution_count": 12,
      "outputs": []
    },
    {
      "cell_type": "markdown",
      "metadata": {
        "id": "9QUz-JUnh-Vh"
      },
      "source": [
        "### Gain Ratio"
      ]
    },
    {
      "cell_type": "code",
      "metadata": {
        "id": "ZmW2jE-0h_9l"
      },
      "source": [
        "def getGainRatio(df, attr, colPredict):\n",
        "  infoGain = getInfoGain(df, attr, colPredict)\n",
        "  entropy = getEntropy(df,colPredict)\n",
        "  gainRatio = infoGain/entropy\n",
        "  return gainRatio"
      ],
      "execution_count": 13,
      "outputs": []
    },
    {
      "cell_type": "code",
      "metadata": {
        "id": "J1wwz_QJvOeu"
      },
      "source": [
        "# getGainRatio(df,'Age','Class')"
      ],
      "execution_count": 14,
      "outputs": []
    },
    {
      "cell_type": "markdown",
      "metadata": {
        "id": "0H5ngJ9dk7ot"
      },
      "source": [
        "--- "
      ]
    },
    {
      "cell_type": "markdown",
      "metadata": {
        "id": "7dDOUbLxlYbr"
      },
      "source": [
        "## Algo. for selecting root _(in decision tree)_"
      ]
    },
    {
      "cell_type": "markdown",
      "metadata": {
        "id": "tQiorK1vmf55"
      },
      "source": [
        "#### loading data"
      ]
    },
    {
      "cell_type": "code",
      "metadata": {
        "id": "IZ6dA53hl4YF",
        "outputId": "33ae1494-8cb2-4038-a9ad-50ab5d3c6efd",
        "colab": {
          "base_uri": "https://localhost:8080/",
          "height": 0
        }
      },
      "source": [
        "df = pd.read_csv('data.csv')\n",
        "df.head()"
      ],
      "execution_count": 15,
      "outputs": [
        {
          "output_type": "execute_result",
          "data": {
            "text/html": [
              "<div>\n",
              "<style scoped>\n",
              "    .dataframe tbody tr th:only-of-type {\n",
              "        vertical-align: middle;\n",
              "    }\n",
              "\n",
              "    .dataframe tbody tr th {\n",
              "        vertical-align: top;\n",
              "    }\n",
              "\n",
              "    .dataframe thead th {\n",
              "        text-align: right;\n",
              "    }\n",
              "</style>\n",
              "<table border=\"1\" class=\"dataframe\">\n",
              "  <thead>\n",
              "    <tr style=\"text-align: right;\">\n",
              "      <th></th>\n",
              "      <th>Age</th>\n",
              "      <th>Eyesight</th>\n",
              "      <th>Estigmatic</th>\n",
              "      <th>UseType</th>\n",
              "      <th>Class</th>\n",
              "    </tr>\n",
              "  </thead>\n",
              "  <tbody>\n",
              "    <tr>\n",
              "      <th>0</th>\n",
              "      <td>1</td>\n",
              "      <td>1</td>\n",
              "      <td>1</td>\n",
              "      <td>1</td>\n",
              "      <td>3</td>\n",
              "    </tr>\n",
              "    <tr>\n",
              "      <th>1</th>\n",
              "      <td>1</td>\n",
              "      <td>1</td>\n",
              "      <td>1</td>\n",
              "      <td>2</td>\n",
              "      <td>2</td>\n",
              "    </tr>\n",
              "    <tr>\n",
              "      <th>2</th>\n",
              "      <td>1</td>\n",
              "      <td>1</td>\n",
              "      <td>2</td>\n",
              "      <td>1</td>\n",
              "      <td>3</td>\n",
              "    </tr>\n",
              "    <tr>\n",
              "      <th>3</th>\n",
              "      <td>1</td>\n",
              "      <td>1</td>\n",
              "      <td>2</td>\n",
              "      <td>2</td>\n",
              "      <td>1</td>\n",
              "    </tr>\n",
              "    <tr>\n",
              "      <th>4</th>\n",
              "      <td>1</td>\n",
              "      <td>2</td>\n",
              "      <td>1</td>\n",
              "      <td>1</td>\n",
              "      <td>3</td>\n",
              "    </tr>\n",
              "  </tbody>\n",
              "</table>\n",
              "</div>"
            ],
            "text/plain": [
              "   Age  Eyesight  Estigmatic  UseType  Class\n",
              "0    1         1           1        1      3\n",
              "1    1         1           1        2      2\n",
              "2    1         1           2        1      3\n",
              "3    1         1           2        2      1\n",
              "4    1         2           1        1      3"
            ]
          },
          "metadata": {
            "tags": []
          },
          "execution_count": 15
        }
      ]
    },
    {
      "cell_type": "code",
      "metadata": {
        "id": "52-4sNYAuoHY",
        "outputId": "c91fc020-319d-40ad-86a4-237be4b7e67e",
        "colab": {
          "base_uri": "https://localhost:8080/"
        }
      },
      "source": [
        "df.shape"
      ],
      "execution_count": 16,
      "outputs": [
        {
          "output_type": "execute_result",
          "data": {
            "text/plain": [
              "(24, 5)"
            ]
          },
          "metadata": {
            "tags": []
          },
          "execution_count": 16
        }
      ]
    },
    {
      "cell_type": "code",
      "metadata": {
        "id": "iaQf1Gaeu7qk"
      },
      "source": [
        "## constats\n",
        "colToPredict = 'Class'\n",
        "comparisionMat = pd.DataFrame(columns=['Algorithm','Root Attribute'])"
      ],
      "execution_count": 17,
      "outputs": []
    },
    {
      "cell_type": "code",
      "metadata": {
        "id": "kerK-EIewVgV"
      },
      "source": [
        "def addRow(df, algo, root):\n",
        "    #create rows for comparision\n",
        "    thisRow = {\"Algorithm\":algo,\n",
        "               \"Root Attribute\":root}\n",
        "    thisRow = pd.Series(thisRow)\n",
        "    df = df.append(thisRow,ignore_index=True)\n",
        "    \n",
        "    return df"
      ],
      "execution_count": 18,
      "outputs": []
    },
    {
      "cell_type": "markdown",
      "metadata": {
        "id": "UccfKm4Flkl1"
      },
      "source": [
        "### ID3"
      ]
    },
    {
      "cell_type": "code",
      "metadata": {
        "id": "00eYipAhk8nW"
      },
      "source": [
        "def id3(df, predictionCol):\n",
        "  attributes = list(df.columns)\n",
        "  attributes.remove(predictionCol)\n",
        "  attrCount = len(attributes)\n",
        "\n",
        "  infoGains = list(map(getInfoGain, [df]*attrCount, attributes, [predictionCol]*attrCount))\n",
        "  rootAttr = df.columns[infoGains.index(max(infoGains))]\n",
        "\n",
        "  return rootAttr"
      ],
      "execution_count": 19,
      "outputs": []
    },
    {
      "cell_type": "code",
      "metadata": {
        "id": "2VOQc9YHsPcj"
      },
      "source": [
        "root = id3(df,colToPredict)\n",
        "comparisionMat = addRow(comparisionMat,'ID3',root)"
      ],
      "execution_count": 20,
      "outputs": []
    },
    {
      "cell_type": "markdown",
      "metadata": {
        "id": "mFnlEXKxlr3j"
      },
      "source": [
        "### CART"
      ]
    },
    {
      "cell_type": "code",
      "metadata": {
        "id": "Jltc3HJClvU4"
      },
      "source": [
        "def cart(df, predictionCol):\n",
        "  attributes = list(df.columns)\n",
        "  attributes.remove(predictionCol)\n",
        "  attrCount = len(attributes)\n",
        "\n",
        "  giniIndex = list(map(getAttrGiniIndex, [df]*attrCount, attributes, [predictionCol]*attrCount))\n",
        "  rootAttr = df.columns[giniIndex.index(max(giniIndex))]\n",
        "\n",
        "  return rootAttr"
      ],
      "execution_count": 21,
      "outputs": []
    },
    {
      "cell_type": "code",
      "metadata": {
        "id": "m-oVTzB_uO8R"
      },
      "source": [
        "root = cart(df,colToPredict)\n",
        "comparisionMat = addRow(comparisionMat,'CART',root)"
      ],
      "execution_count": 22,
      "outputs": []
    },
    {
      "cell_type": "markdown",
      "metadata": {
        "id": "kAyW7imClmvG"
      },
      "source": [
        "### C4.5"
      ]
    },
    {
      "cell_type": "code",
      "metadata": {
        "id": "dO2dNy-glrYl"
      },
      "source": [
        "def c4dot5(df, predictionCol):\n",
        "  attributes = list(df.columns)\n",
        "  attributes.remove(predictionCol)\n",
        "  attrCount = len(attributes)\n",
        "\n",
        "  gainRatio = list(map(getGainRatio, [df]*attrCount, attributes, ['Class']*attrCount))\n",
        "  rootAttr = df.columns[gainRatio.index(max(gainRatio))]\n",
        "\n",
        "  return rootAttr"
      ],
      "execution_count": 23,
      "outputs": []
    },
    {
      "cell_type": "code",
      "metadata": {
        "id": "UcSgojaCtSzl"
      },
      "source": [
        "root = c4dot5(df,colToPredict)\n",
        "comparisionMat = addRow(comparisionMat,'C4.5',root)"
      ],
      "execution_count": 24,
      "outputs": []
    },
    {
      "cell_type": "markdown",
      "metadata": {
        "id": "gZ4t1IXQxJZN"
      },
      "source": [
        "---"
      ]
    },
    {
      "cell_type": "markdown",
      "metadata": {
        "id": "0HC9lpZkxNj4"
      },
      "source": [
        "## Comparision"
      ]
    },
    {
      "cell_type": "code",
      "metadata": {
        "id": "6_eerEdtxKBc",
        "outputId": "d1530e9a-4828-4aba-cddf-a4314eea20d9",
        "colab": {
          "base_uri": "https://localhost:8080/",
          "height": 137
        }
      },
      "source": [
        "comparisionMat"
      ],
      "execution_count": 25,
      "outputs": [
        {
          "output_type": "execute_result",
          "data": {
            "text/html": [
              "<div>\n",
              "<style scoped>\n",
              "    .dataframe tbody tr th:only-of-type {\n",
              "        vertical-align: middle;\n",
              "    }\n",
              "\n",
              "    .dataframe tbody tr th {\n",
              "        vertical-align: top;\n",
              "    }\n",
              "\n",
              "    .dataframe thead th {\n",
              "        text-align: right;\n",
              "    }\n",
              "</style>\n",
              "<table border=\"1\" class=\"dataframe\">\n",
              "  <thead>\n",
              "    <tr style=\"text-align: right;\">\n",
              "      <th></th>\n",
              "      <th>Algorithm</th>\n",
              "      <th>Root Attribute</th>\n",
              "    </tr>\n",
              "  </thead>\n",
              "  <tbody>\n",
              "    <tr>\n",
              "      <th>0</th>\n",
              "      <td>ID3</td>\n",
              "      <td>UseType</td>\n",
              "    </tr>\n",
              "    <tr>\n",
              "      <th>1</th>\n",
              "      <td>CART</td>\n",
              "      <td>UseType</td>\n",
              "    </tr>\n",
              "    <tr>\n",
              "      <th>2</th>\n",
              "      <td>C4.5</td>\n",
              "      <td>UseType</td>\n",
              "    </tr>\n",
              "  </tbody>\n",
              "</table>\n",
              "</div>"
            ],
            "text/plain": [
              "  Algorithm Root Attribute\n",
              "0       ID3        UseType\n",
              "1      CART        UseType\n",
              "2      C4.5        UseType"
            ]
          },
          "metadata": {
            "tags": []
          },
          "execution_count": 25
        }
      ]
    }
  ]
}